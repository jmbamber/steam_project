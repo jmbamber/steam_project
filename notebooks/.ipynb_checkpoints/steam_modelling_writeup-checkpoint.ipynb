{
 "cells": [
  {
   "cell_type": "markdown",
   "metadata": {},
   "source": [
    "# Steam modelling"
   ]
  },
  {
   "cell_type": "code",
   "execution_count": 64,
   "metadata": {},
   "outputs": [],
   "source": [
    "import pandas as pd\n",
    "import numpy as np\n",
    "import matplotlib.pyplot as plt\n",
    "import seaborn as sns\n",
    "import datetime\n",
    "from collections import defaultdict\n",
    "from my_functions import regular_comp\n",
    "from tqdm import tqdm_notebook"
   ]
  },
  {
   "cell_type": "code",
   "execution_count": 155,
   "metadata": {},
   "outputs": [],
   "source": [
    "from sklearn.model_selection import cross_val_score, cross_val_predict, train_test_split, KFold, GridSearchCV\n",
    "from sklearn.preprocessing import StandardScaler, PolynomialFeatures, MinMaxScaler, PowerTransformer\n",
    "from sklearn.linear_model import LinearRegression, Ridge, Lasso, RidgeCV, LassoCV\n",
    "from sklearn.compose import TransformedTargetRegressor\n",
    "from sklearn.metrics import roc_curve, auc, confusion_matrix, classification_report, precision_recall_curve, r2_score, mean_squared_error\n",
    "from sklearn.ensemble import RandomForestRegressor, GradientBoostingRegressor, AdaBoostRegressor, ExtraTreesRegressor, BaggingRegressor\n",
    "from sklearn.pipeline import Pipeline, make_pipeline\n",
    "from statsmodels.discrete.discrete_model import Logit\n",
    "from sklearn.tree import DecisionTreeClassifier, DecisionTreeRegressor"
   ]
  },
  {
   "cell_type": "markdown",
   "metadata": {},
   "source": [
    "Importing some custom functions and classes:"
   ]
  },
  {
   "cell_type": "code",
   "execution_count": 3,
   "metadata": {},
   "outputs": [],
   "source": [
    "def regular_comp(df, var, r2=\"test\", test_size=0.2, random_state=1):\n",
    "    \"\"\"Tries Ridge, Lasso and Elecctric Nets and return the best alpha score for the one with the best R2\"\"\"\n",
    "    from sklearn.linear_model import Ridge, Lasso, ElasticNet, LinearRegression, RidgeCV, LassoCV, ElasticNetCV\n",
    "    from sklearn.model_selection import train_test_split, cross_val_score\n",
    "    from sklearn.preprocessing import StandardScaler\n",
    "    import numpy as np\n",
    "\n",
    "    X=df.copy()\n",
    "    y=X.pop(var)\n",
    "\n",
    "    #splitting and scaling predictors\n",
    "    X_train, X_test, y_train, y_test = train_test_split(X, y, test_size=test_size, random_state=random_state)\n",
    "    scaler = StandardScaler()\n",
    "    X_s = scaler.fit_transform(X_train)\n",
    "    X_st = scaler.transform(X_test)\n",
    "    print(\"Data prepared...\")\n",
    "\n",
    "\n",
    "    #trying linear regression with no regularising\n",
    "    model=LinearRegression().fit(X_s, y_train)\n",
    "    score = np.mean(cross_val_score(model, X_s, y_train, cv=10))\n",
    "    te_score = model.score(X_st, y_test)\n",
    "    print(\"Linear Regession done...\")\n",
    "    print(\"CV R2 = {0:.3f}, Test R2 = {0:.3f}\".format(score, te_score))\n",
    "    print(\"\")\n",
    "\n",
    "    #trying Ridge\n",
    "    best_ridge = RidgeCV(alphas = np.logspace(-5,5,100), cv=10).fit(X_s, y_train)\n",
    "    r_model = Ridge(alpha = best_ridge.alpha_).fit(X_s, y_train)\n",
    "    rcv_score = np.mean(cross_val_score(r_model, X_s, y_train, cv=10))\n",
    "    rte_score = r_model.score(X_st, y_test)\n",
    "    print(\"Ridge done...\")\n",
    "    print(\"CV R2 = {0:.3f}, Test R2 = {0:.3f}\".format(rcv_score, rte_score))\n",
    "    print(\"Ridge Alpha = {}\".format(best_ridge.alpha_))\n",
    "    print(\"\")\n",
    "\n",
    "    #trying Lasso\n",
    "    best_lasso = LassoCV(n_alphas = 100, cv=10).fit(X_s, y_train)\n",
    "    l_model = Lasso(alpha = best_lasso.alpha_).fit(X_s, y_train)\n",
    "    lcv_score = np.mean(cross_val_score(l_model, X_s, y_train, cv=10))\n",
    "    lte_score = l_model.score(X_st, y_test)\n",
    "    print(\"Lasso done...\")\n",
    "    print(\"CV R2 = {0:.3f}, Test R2 = {0:.3f}\".format(lcv_score, lte_score))\n",
    "    print(\"Lasso Alpha = {}\".format(best_lasso.alpha_))\n",
    "    print(\"\")\n",
    "\n",
    "    #trying Electric Nets\n",
    "    best_en = ElasticNetCV(l1_ratio=[0.0001, 0.001, 0.01, 0.1, 0.5, 0.7, 0.9, 0.95, 0.99, 1],\n",
    "                       n_alphas = 100,\n",
    "                       cv=10).fit(X_s, y_train)\n",
    "    en_model = ElasticNet(alpha = best_en.alpha_, l1_ratio=best_en.l1_ratio_).fit(X_s, y_train)\n",
    "    encv_score = np.mean(cross_val_score(en_model, X_s, y_train, cv=10))\n",
    "    ente_score = en_model.score(X_st, y_test)\n",
    "    print(\"Elastic Net done...\")\n",
    "    print(\"CV R2 = {0:.3f}, Test R2 = {0:.3f}\".format(encv_score, ente_score))\n",
    "    print(\"EN Alpha = {}, EN Ratio = {}\".format(best_en.alpha_, best_en.l1_ratio_))\n",
    "    print(\"\")\n",
    "\n",
    "    if r2 == \"test\":\n",
    "        #sorting the best test score:\n",
    "        scores = sorted([(\"Linear\", te_score, score), (\"Ridge\", rte_score, rcv_score),\n",
    "                        (\"Lasso\", lte_score, lcv_score), (\"Elastic Net\", ente_score, encv_score)],\n",
    "                        key=lambda tup: tup[1], reverse=True)\n",
    "\n",
    "\n",
    "    elif r2 == \"cv\":\n",
    "        #sorting the best cv score:\n",
    "        scores = sorted([(\"Linear\", te_score, score), (\"Ridge\", rte_score, rcv_score),\n",
    "                        (\"Lasso\", lte_score, lcv_score), (\"Elastic Net\", ente_score, encv_score)],\n",
    "                        key=lambda tup: tup[2], reverse=True)\n",
    "\n",
    "    print(\"Best = \" + scores[0][0])\n",
    "\n",
    "    #returning best alpha value\n",
    "    if scores[0][0] == \"Ridge\":\n",
    "        return best_ridge.alpha_\n",
    "    elif scores[0][0] == \"Lasso\":\n",
    "        return best_lasso.alpha_\n",
    "    elif scores[0][0] == \"Elastic Net\":\n",
    "        return (best_en.alpha_, best_en.l1_ratio_)\n",
    "    else:\n",
    "        return 0\n",
    "\n",
    "    \n",
    "def mod_r2(y_true, y_pred, X):\n",
    "    \"\"\"Compares the accuracy of a model to another variable\"\"\"\n",
    "    from sklearn.metrics import mean_squared_error\n",
    "    \n",
    "    return 1-(mean_squared_error(y_true, y_pred) / mean_squared_error(y_true, X))"
   ]
  },
  {
   "cell_type": "code",
   "execution_count": 4,
   "metadata": {},
   "outputs": [],
   "source": [
    "from sklearn.base import BaseEstimator, TransformerMixin     \n",
    "\n",
    "class Dummier(BaseEstimator, TransformerMixin):\n",
    "    \"\"\"Dummies the given variables. Needs the full dataset (pre train-test split) to create categories\n",
    "    so it can account for different information after the split\"\"\"\n",
    "    def __init__(self, og_df, to_dum=\"all\"):\n",
    "        self.feature_names = []\n",
    "        self.og_df=og_df\n",
    "        self.to_dum=to_dum\n",
    "        if isinstance(og_df, pd.DataFrame)== False:\n",
    "            print(\"Parameter og_df must be a DataFrame!\")\n",
    "        else:\n",
    "            pass\n",
    "\n",
    "    def categoriser(self, X):\n",
    "        X = pd.DataFrame(X)\n",
    "        if self.to_dum == \"all\":\n",
    "            for col in X.columns:\n",
    "                if X[col].dtypes == \"O\":\n",
    "                    X[col]= pd.Categorical(X[col], categories= list(self.og_df[col].unique()))\n",
    "            return X\n",
    "        else:\n",
    "            for col in self.to_dum:\n",
    "                X[col]= pd.Categorical(X[col], categories= list(self.og_df[col].unique()))\n",
    "            return X\n",
    "\n",
    "    def dummify(self, X):\n",
    "        if self.to_dum == \"all\":\n",
    "            X=pd.get_dummies(X, drop_first=True)\n",
    "            return X\n",
    "        else:\n",
    "            X=pd.get_dummies(X, columns=self.to_dum, drop_first=True)\n",
    "            return X\n",
    "\n",
    "    def transform(self, X, *args):\n",
    "        X = self.categoriser(X)\n",
    "        X = self.dummify(X)\n",
    "        self.feature_names = X.columns\n",
    "        return X\n",
    "\n",
    "    def fit(self, X, *args):\n",
    "        return self\n",
    "\n",
    "\n",
    "class Dropper(BaseEstimator, TransformerMixin):\n",
    "    \"\"\"Drops the given variables so they are not included in the prediction\"\"\"\n",
    "\n",
    "    def __init__(self, to_drop):\n",
    "        self.to_drop=to_drop\n",
    "\n",
    "    def dropper(self, X):\n",
    "        X = pd.DataFrame(X)\n",
    "        X.drop(columns=self.to_drop, inplace=True)\n",
    "        return X\n",
    "\n",
    "    def transform(self, X, *args):\n",
    "        X = self.dropper(X)\n",
    "        self.feature_names = X.columns\n",
    "        return X\n",
    "\n",
    "    def fit(self, X, *args):\n",
    "        return self\n",
    "    \n",
    "class PTransformer(BaseEstimator, TransformerMixin):\n",
    "    \"\"\"Power transforms the given variables\"\"\"\n",
    "    \n",
    "    def __init__(self, to_trans):\n",
    "        self.to_trans = to_trans\n",
    "        \n",
    "    def ptrans(self, X):\n",
    "        if self.to_trans == None:\n",
    "            return X\n",
    "        else:  \n",
    "            powered = self.power.transform(X[self.to_trans])\n",
    "            powereddf = pd.DataFrame(powered, columns=self.to_trans)\n",
    "            X = X.drop(columns=self.to_trans)\n",
    "            X.reset_index(inplace=True)\n",
    "            return X.join(powereddf)\n",
    "    \n",
    "    def ptrans_fit(self, X):\n",
    "        if self.to_trans == None:\n",
    "            return X\n",
    "        else:\n",
    "            self.power=PowerTransformer().fit(X[self.to_trans])\n",
    "            return self.power\n",
    "        \n",
    "    def transform(self, X, *args):\n",
    "        X = self.ptrans(X)\n",
    "        self.feature_names = X.columns\n",
    "        return X\n",
    "\n",
    "    def fit(self, X, *args):\n",
    "        self.power=self.ptrans_fit(X)\n",
    "        return self\n",
    "    \n",
    "    def inverse_transform(self, X):\n",
    "        return self.power.inverse_transform(X)"
   ]
  },
  {
   "cell_type": "code",
   "execution_count": 5,
   "metadata": {},
   "outputs": [],
   "source": [
    "steam_df = pd.read_csv(\"../data/steam_munged_maydata_v2.csv\")"
   ]
  },
  {
   "cell_type": "code",
   "execution_count": 6,
   "metadata": {},
   "outputs": [],
   "source": [
    "#creating the logged version of the dataframe to account for the distrubution of the data\n",
    "steam_df_log=steam_df.copy()\n",
    "\n",
    "for var in [\"all_time_peak\", \"may_19_av\", \"jun_19_av\", \"jun_jul_avuplift\", \"may_jun_avuplift\", \"may_19_peak\", \"jun_19_peak\", \"total_ratings\"]:\n",
    "    steam_df_log[var] = np.log(steam_df_log[var].map(lambda x: 0.01 if x<=0 else x+0.01))"
   ]
  },
  {
   "cell_type": "markdown",
   "metadata": {},
   "source": [
    "# Prediciting change"
   ]
  },
  {
   "cell_type": "markdown",
   "metadata": {},
   "source": [
    "The target varible here is the \"uplift\" in player numbers after the sale.\n",
    "\n",
    "The first thing tried was a quick linear regression on the data to see what the starting point is. This is done through a function that tests the various regularisations after identifying the optimal alpha."
   ]
  },
  {
   "cell_type": "code",
   "execution_count": 7,
   "metadata": {},
   "outputs": [
    {
     "name": "stdout",
     "output_type": "stream",
     "text": [
      "Data prepared...\n",
      "Linear Regession done...\n",
      "CV R2 = 0.320, Test R2 = 0.320\n",
      "\n",
      "Ridge done...\n",
      "CV R2 = 0.320, Test R2 = 0.320\n",
      "Ridge Alpha = 4.534878508128582\n",
      "\n",
      "Lasso done...\n",
      "CV R2 = 0.320, Test R2 = 0.320\n",
      "Lasso Alpha = 0.0013100029119394048\n",
      "\n",
      "Elastic Net done...\n",
      "CV R2 = 0.320, Test R2 = 0.320\n",
      "EN Alpha = 0.0013100029119394048, EN Ratio = 1.0\n",
      "\n",
      "Best = Ridge\n"
     ]
    },
    {
     "data": {
      "text/plain": [
       "4.534878508128582"
      ]
     },
     "execution_count": 7,
     "metadata": {},
     "output_type": "execute_result"
    }
   ],
   "source": [
    "regular_comp(steam_df_log.drop(columns=[\"index\", \"appid\", \"name\", \"developer\", \"publisher\", \"release_date\",\n",
    "                                       \"jun_jul_avupliftpc\", \"jul_19_av\", \"may_jun_avupliftpc\"]),\n",
    "             \"jun_jul_avuplift\", r2=\"cv\")"
   ]
  },
  {
   "cell_type": "markdown",
   "metadata": {},
   "source": [
    "Sadly not a great score to start with, but it does at least hint that there might be something here, so it is worth setting up a proper pipeline and experimenting with other models.\n",
    "\n",
    "After some experimentation, the best results are got from a Random Forest Regressor. Though the scores are still not great"
   ]
  },
  {
   "cell_type": "code",
   "execution_count": 8,
   "metadata": {},
   "outputs": [
    {
     "name": "stdout",
     "output_type": "stream",
     "text": [
      "CV score: 0.358\n",
      "CV std = 0.035\n",
      "\n",
      "Test score: 0.337\n"
     ]
    }
   ],
   "source": [
    "#setting X and y, and creating split\n",
    "X=steam_df_log.copy()\n",
    "y = X.pop(\"jun_jul_avuplift\")\n",
    "X_train, X_test, y_train, y_test = train_test_split(X, y, test_size=0.2)\n",
    "\n",
    "#Setting up pipeline classes\n",
    "dropper = Dropper([\"index\", \"appid\", \"name\", \"developer\", \"publisher\", \"release_date\",\n",
    "                   \"jun_jul_avupliftpc\", \"may_jun_avupliftpc\", \"jul_19_av\"])\n",
    "dummier = Dummier(X, [\"required_age\"])\n",
    "scaler = StandardScaler()\n",
    "model = RandomForestRegressor(n_estimators=50)\n",
    "\n",
    "#Setting up pipeline\n",
    "tree_pipe = Pipeline(steps = [(\"dropper\", dropper),\n",
    "                              (\"dummier\", dummier),\n",
    "                              (\"scaler\",scaler),\n",
    "                              (\"model\", model)])\n",
    "\n",
    "#Fitting and scoring model\n",
    "tree_pipe.fit(X_train, y_train)\n",
    "scores = cross_val_score(tree_pipe, X_train, y_train, cv=5)\n",
    "\n",
    "print(\"CV score: {0:.3f}\".format(np.mean(scores)))\n",
    "print(\"CV std = {0:.3f}\".format(np.std(scores)))\n",
    "print(\"\")\n",
    "print(\"Test score: {0:.3f}\".format(tree_pipe.score(X_test, y_test)))"
   ]
  },
  {
   "cell_type": "markdown",
   "metadata": {},
   "source": [
    "To dig into the issues, let's look at our predictions and see how they compare to the true scores"
   ]
  },
  {
   "cell_type": "code",
   "execution_count": 9,
   "metadata": {},
   "outputs": [],
   "source": [
    "#Pulling predictors\n",
    "y_pred = tree_pipe.predict(X_test)"
   ]
  },
  {
   "cell_type": "code",
   "execution_count": 10,
   "metadata": {},
   "outputs": [
    {
     "data": {
      "image/png": "[encoded data removed]",
      "text/plain": [
       "<Figure size 576x576 with 1 Axes>"
      ]
     },
     "metadata": {
      "needs_background": "light"
     },
     "output_type": "display_data"
    }
   ],
   "source": [
    "#Plotting predicted values against true\n",
    "plt.figure(figsize=(8,8))\n",
    "plt.scatter (y_test, y_pred, c=\"k\")\n",
    "plt.plot([-4.5,8],[-4.5,8], c=\"r\")\n",
    "plt.title(\"True y vs. Predicted y\")\n",
    "plt.xlabel(\"True y\")\n",
    "plt.ylabel(\"Pred y\")\n",
    "plt.show()"
   ]
  },
  {
   "cell_type": "markdown",
   "metadata": {},
   "source": [
    "It's clear that the model is really struggling with the abundance of zeros. They're resulting in a consistant underestimation of the uplift, which can be seen by the very visual misalignment of the \"ideal\" line compared to the actual points.\n",
    "\n",
    "Meanwhile, the numbers that should be 0 are being predicted across almost the entire spectrum of predicted values.\n",
    "\n",
    "And it looks even worse when we inverse transform the prediction back into the true values (i.e. the actual change in player numbers)."
   ]
  },
  {
   "cell_type": "code",
   "execution_count": 11,
   "metadata": {},
   "outputs": [
    {
     "data": {
      "image/png": "[encoded data removed]",
      "text/plain": [
       "<Figure size 576x576 with 1 Axes>"
      ]
     },
     "metadata": {
      "needs_background": "light"
     },
     "output_type": "display_data"
    }
   ],
   "source": [
    "plt.figure(figsize=(8,8))\n",
    "plt.scatter ((np.exp(y_test)-0.01),(np.exp(y_pred)-0.01), c=\"k\")\n",
    "plt.plot([0,2000],[0,2000], c=\"r\")\n",
    "plt.xlabel(\"True y\")\n",
    "plt.ylabel(\"Pred y\")\n",
    "#plt.xlim((-50,2000))\n",
    "plt.show()"
   ]
  },
  {
   "cell_type": "code",
   "execution_count": 12,
   "metadata": {},
   "outputs": [
    {
     "data": {
      "text/plain": [
       "0.017123809442812887"
      ]
     },
     "execution_count": 12,
     "metadata": {},
     "output_type": "execute_result"
    }
   ],
   "source": [
    "r2_score((np.exp(y_test)-0.01),(np.exp(y_pred)-0.01))"
   ]
  },
  {
   "cell_type": "markdown",
   "metadata": {},
   "source": [
    "Transforming the data in this way clearly isn't particularly succesful, so a new approach needs to be taken.\n",
    "\n",
    "Having a look at the feature importances does show that they make sense. The main predictors of uplift are generally directly, or indirectly, related to popularity: Other measures of player numbers, number of ratings (people on related games they've played) and price (smaller, independent, less popular games are going to be cheaper that those made by big-names).\n",
    "\n",
    "Discount % is at least providing some of the predictive power, though at this stage very little."
   ]
  },
  {
   "cell_type": "code",
   "execution_count": 13,
   "metadata": {},
   "outputs": [
    {
     "data": {
      "text/html": [
       "<div>\n",
       "<style scoped>\n",
       "    .dataframe tbody tr th:only-of-type {\n",
       "        vertical-align: middle;\n",
       "    }\n",
       "\n",
       "    .dataframe tbody tr th {\n",
       "        vertical-align: top;\n",
       "    }\n",
       "\n",
       "    .dataframe thead th {\n",
       "        text-align: right;\n",
       "    }\n",
       "</style>\n",
       "<table border=\"1\" class=\"dataframe\">\n",
       "  <thead>\n",
       "    <tr style=\"text-align: right;\">\n",
       "      <th></th>\n",
       "      <th>0</th>\n",
       "    </tr>\n",
       "  </thead>\n",
       "  <tbody>\n",
       "    <tr>\n",
       "      <th>may_19_av</th>\n",
       "      <td>0.312001</td>\n",
       "    </tr>\n",
       "    <tr>\n",
       "      <th>jun_19_peak</th>\n",
       "      <td>0.084192</td>\n",
       "    </tr>\n",
       "    <tr>\n",
       "      <th>all_time_peak</th>\n",
       "      <td>0.080647</td>\n",
       "    </tr>\n",
       "    <tr>\n",
       "      <th>ratingpc</th>\n",
       "      <td>0.069171</td>\n",
       "    </tr>\n",
       "    <tr>\n",
       "      <th>jun_19_av</th>\n",
       "      <td>0.068577</td>\n",
       "    </tr>\n",
       "    <tr>\n",
       "      <th>total_ratings</th>\n",
       "      <td>0.060533</td>\n",
       "    </tr>\n",
       "    <tr>\n",
       "      <th>price</th>\n",
       "      <td>0.054034</td>\n",
       "    </tr>\n",
       "    <tr>\n",
       "      <th>may_jun_avuplift</th>\n",
       "      <td>0.049698</td>\n",
       "    </tr>\n",
       "    <tr>\n",
       "      <th>may_19_peak</th>\n",
       "      <td>0.045705</td>\n",
       "    </tr>\n",
       "    <tr>\n",
       "      <th>discount</th>\n",
       "      <td>0.037317</td>\n",
       "    </tr>\n",
       "  </tbody>\n",
       "</table>\n",
       "</div>"
      ],
      "text/plain": [
       "                         0\n",
       "may_19_av         0.312001\n",
       "jun_19_peak       0.084192\n",
       "all_time_peak     0.080647\n",
       "ratingpc          0.069171\n",
       "jun_19_av         0.068577\n",
       "total_ratings     0.060533\n",
       "price             0.054034\n",
       "may_jun_avuplift  0.049698\n",
       "may_19_peak       0.045705\n",
       "discount          0.037317"
      ]
     },
     "execution_count": 13,
     "metadata": {},
     "output_type": "execute_result"
    }
   ],
   "source": [
    "pd.DataFrame(tree_pipe.steps[3][1].feature_importances_, index=tree_pipe.steps[1][1].feature_names).sort_values(0, ascending=False).head(10)"
   ]
  },
  {
   "cell_type": "markdown",
   "metadata": {},
   "source": [
    "# Predicting absolute values"
   ]
  },
  {
   "cell_type": "markdown",
   "metadata": {},
   "source": [
    "In order to get around the issue of too many zeros, maybe it makes sense to completely change tack.\n",
    "\n",
    "Rather than predicting the _change_ in player numbers, perhaps I should just try and predict the actual number of players in the second month. You don't get negative people, so this will allow me to log transform the entire variable without issue (after adding a constant to account for 0s).\n",
    "\n",
    "As such, for the next section my prediction variable has changed to the log transformation of average players in July."
   ]
  },
  {
   "cell_type": "code",
   "execution_count": 14,
   "metadata": {},
   "outputs": [],
   "source": [
    "#creating new dataframe for prediction \n",
    "steam_df_log2=steam_df.copy()\n",
    "\n",
    "for var in [\"all_time_peak\", \"may_19_av\", \"jun_19_av\", \"jul_19_av\", \"may_19_peak\", \"jun_19_peak\", \"total_ratings\"]:\n",
    "    steam_df_log2[var] = np.log(steam_df_log2[var].map(lambda x: x+0.01))"
   ]
  },
  {
   "cell_type": "markdown",
   "metadata": {},
   "source": [
    "As it gave the best results before, I start with the Random Forest Regressor here "
   ]
  },
  {
   "cell_type": "code",
   "execution_count": 39,
   "metadata": {},
   "outputs": [
    {
     "name": "stdout",
     "output_type": "stream",
     "text": [
      "CV score: 0.941\n",
      "CV std = 0.006\n",
      "\n",
      "Test score: 0.947\n"
     ]
    }
   ],
   "source": [
    "X=steam_df_log2.copy()\n",
    "y = X.pop(\"jul_19_av\")\n",
    "X_train, X_test, y_train, y_test = train_test_split(X, y, test_size=0.2, random_state=1)\n",
    "\n",
    "dropper = Dropper([\"index\", \"appid\", \"name\", \"developer\", \"publisher\", \"release_date\",\n",
    "                   \"jun_jul_avupliftpc\", \"may_jun_avupliftpc\", \"jun_jul_avuplift\", \"may_jun_avuplift\",\n",
    "                  ])\n",
    "dummier = Dummier(X, [\"required_age\"])\n",
    "scaler = StandardScaler()\n",
    "model = RandomForestRegressor(n_estimators=100)\n",
    "\n",
    "tree_pipe = Pipeline(steps = [(\"dropper\", dropper),\n",
    "                              (\"dummier\", dummier),\n",
    "                             (\"scaler\",scaler),\n",
    "                             (\"model\", model)])\n",
    "\n",
    "tree_pipe.fit(X_train, y_train)\n",
    "\n",
    "scores = cross_val_score(tree_pipe, X_train, y_train, cv=5)\n",
    "\n",
    "print(\"CV score: {0:.3f}\".format(np.mean(scores)))\n",
    "print(\"CV std = {0:.3f}\".format(np.std(scores)))\n",
    "print(\"\")\n",
    "print(\"Test score: {0:.3f}\".format(tree_pipe.score(X_test, y_test)))"
   ]
  },
  {
   "cell_type": "markdown",
   "metadata": {},
   "source": [
    "Wow! R2 of .95!\n",
    "\n",
    "...of course, nothing can be that easy, surely?\n",
    "\n",
    "Maybe it's best to look at this deeper before celebrating too soon.\n"
   ]
  },
  {
   "cell_type": "code",
   "execution_count": 16,
   "metadata": {},
   "outputs": [],
   "source": [
    "y_pred = tree_pipe.predict(X_test)"
   ]
  },
  {
   "cell_type": "code",
   "execution_count": 17,
   "metadata": {},
   "outputs": [
    {
     "data": {
      "image/png": "[encoded data removed]",
      "text/plain": [
       "<Figure size 1152x576 with 2 Axes>"
      ]
     },
     "metadata": {
      "needs_background": "light"
     },
     "output_type": "display_data"
    }
   ],
   "source": [
    "fig, ax = plt.subplots(ncols=2,figsize=(16,8))\n",
    "\n",
    "ax[0].scatter (y_test, y_pred, c=\"k\")\n",
    "ax[0].plot([-4,8],[-4,8], c=\"r\")\n",
    "ax[0].set_xlabel(\"True y\")\n",
    "ax[0].set_ylabel(\"Pred y\")\n",
    "\n",
    "plt.scatter((np.exp(y_test)-0.01),(np.exp(y_pred)-0.01),c=\"k\")\n",
    "plt.plot([0,30000],[0,30000], c=\"r\")\n",
    "ax[1].set_xlabel(\"True y\")\n",
    "ax[1].set_ylabel(\"Pred y\")\n",
    "\n",
    "plt.show()"
   ]
  },
  {
   "cell_type": "code",
   "execution_count": 20,
   "metadata": {},
   "outputs": [
    {
     "data": {
      "image/png": "[encoded data removed]",
      "text/plain": [
       "<Figure size 432x288 with 1 Axes>"
      ]
     },
     "metadata": {
      "needs_background": "light"
     },
     "output_type": "display_data"
    }
   ],
   "source": [
    "plt.hist((y_pred)-(y_test), bins=20)\n",
    "plt.title(\"Residuals\")\n",
    "plt.show()"
   ]
  },
  {
   "cell_type": "code",
   "execution_count": 19,
   "metadata": {},
   "outputs": [
    {
     "data": {
      "text/plain": [
       "0.959893440681413"
      ]
     },
     "execution_count": 19,
     "metadata": {},
     "output_type": "execute_result"
    }
   ],
   "source": [
    "r2_score((np.exp(y_test)-0.01),(np.exp(y_pred)-0.01))"
   ]
  },
  {
   "cell_type": "markdown",
   "metadata": {},
   "source": [
    "The true vs.predicted values look very well aligned when plotted, and the residuals aren't too badly distributed. It even keeps it's strong R2 score when transformed back into true values.\n",
    "\n",
    "However, looking at the feature importances we can see that almost all predictive power of the model is coming from the average number of players in June"
   ]
  },
  {
   "cell_type": "code",
   "execution_count": 21,
   "metadata": {},
   "outputs": [
    {
     "data": {
      "text/html": [
       "<div>\n",
       "<style scoped>\n",
       "    .dataframe tbody tr th:only-of-type {\n",
       "        vertical-align: middle;\n",
       "    }\n",
       "\n",
       "    .dataframe tbody tr th {\n",
       "        vertical-align: top;\n",
       "    }\n",
       "\n",
       "    .dataframe thead th {\n",
       "        text-align: right;\n",
       "    }\n",
       "</style>\n",
       "<table border=\"1\" class=\"dataframe\">\n",
       "  <thead>\n",
       "    <tr style=\"text-align: right;\">\n",
       "      <th></th>\n",
       "      <th>0</th>\n",
       "    </tr>\n",
       "  </thead>\n",
       "  <tbody>\n",
       "    <tr>\n",
       "      <th>jun_19_av</th>\n",
       "      <td>0.9323</td>\n",
       "    </tr>\n",
       "    <tr>\n",
       "      <th>may_19_av</th>\n",
       "      <td>0.0133</td>\n",
       "    </tr>\n",
       "    <tr>\n",
       "      <th>all_time_peak</th>\n",
       "      <td>0.0108</td>\n",
       "    </tr>\n",
       "    <tr>\n",
       "      <th>ratingpc</th>\n",
       "      <td>0.0064</td>\n",
       "    </tr>\n",
       "    <tr>\n",
       "      <th>total_ratings</th>\n",
       "      <td>0.0061</td>\n",
       "    </tr>\n",
       "    <tr>\n",
       "      <th>jun_19_peak</th>\n",
       "      <td>0.0060</td>\n",
       "    </tr>\n",
       "    <tr>\n",
       "      <th>price</th>\n",
       "      <td>0.0049</td>\n",
       "    </tr>\n",
       "    <tr>\n",
       "      <th>may_19_peak</th>\n",
       "      <td>0.0046</td>\n",
       "    </tr>\n",
       "    <tr>\n",
       "      <th>discount</th>\n",
       "      <td>0.0032</td>\n",
       "    </tr>\n",
       "    <tr>\n",
       "      <th>gen_Casual</th>\n",
       "      <td>0.0008</td>\n",
       "    </tr>\n",
       "  </tbody>\n",
       "</table>\n",
       "</div>"
      ],
      "text/plain": [
       "                    0\n",
       "jun_19_av      0.9323\n",
       "may_19_av      0.0133\n",
       "all_time_peak  0.0108\n",
       "ratingpc       0.0064\n",
       "total_ratings  0.0061\n",
       "jun_19_peak    0.0060\n",
       "price          0.0049\n",
       "may_19_peak    0.0046\n",
       "discount       0.0032\n",
       "gen_Casual     0.0008"
      ]
     },
     "execution_count": 21,
     "metadata": {},
     "output_type": "execute_result"
    }
   ],
   "source": [
    "pd.DataFrame([round(coef,4) for coef in tree_pipe.steps[3][1].feature_importances_], index=tree_pipe.steps[1][1].feature_names).sort_values(0, ascending=False).head(10)"
   ]
  },
  {
   "cell_type": "markdown",
   "metadata": {},
   "source": [
    "At this point, as we're predicting the total player numbers for the next month, the problem has mostly turned into a timeseries one. And it would appear that there are some pretty strong autocorrelations within the data. The best way to deal with this in a timeseries would be to transform the data into differences, but... that's exactly what I was trying to solve by doing this.\n",
    "\n",
    "Even though almost all of the predictive power is coming form the previous month, this could still be a useful model if the additional variables do make it more accurate than simply looking at the past month's numbers. As such, the new evaluation metric will be looking at the accuracy of how the model predicts July numbers compared to the accuracy of just taking the June numbers.\n",
    "\n",
    "As such, I created a modified R2 score which compares the mean squared error of the model to the mean squared error from the previous month's numbers"
   ]
  },
  {
   "cell_type": "code",
   "execution_count": 25,
   "metadata": {},
   "outputs": [],
   "source": [
    "def mod_r2(y_true, y_pred, X):\n",
    "    \"\"\"Compares the accuracy of a model to another variable\"\"\"\n",
    "    from sklearn.metrics import mean_squared_error\n",
    "    \n",
    "    return 1-(mean_squared_error(y_true, y_pred) / mean_squared_error(y_true, X))"
   ]
  },
  {
   "cell_type": "code",
   "execution_count": 22,
   "metadata": {},
   "outputs": [
    {
     "data": {
      "text/plain": [
       "0.21615582584080395"
      ]
     },
     "execution_count": 22,
     "metadata": {},
     "output_type": "execute_result"
    }
   ],
   "source": [
    "#r2 score vs. jun\n",
    "mod_r2(y_test,y_pred, X_test[\"jun_19_av\"])"
   ]
  },
  {
   "cell_type": "code",
   "execution_count": 23,
   "metadata": {},
   "outputs": [
    {
     "data": {
      "text/plain": [
       "0.100693900511722"
      ]
     },
     "execution_count": 23,
     "metadata": {},
     "output_type": "execute_result"
    }
   ],
   "source": [
    "#actual (unlogged) r2 score vs. jun\n",
    "mod_r2((np.exp(y_test)-0.01),(np.exp(y_pred)-0.01), np.exp(X_test[\"jun_19_av\"])-0.01)"
   ]
  },
  {
   "cell_type": "markdown",
   "metadata": {},
   "source": [
    "The R2 score for the log and actual values look a loss less impressive now that they are compared to the Jun values. But considering the strong baseline the score doesn't need to be especially impressive to still be useful.\n",
    "\n",
    "By taking the predictive power of June out of the model, I am now effectively back to predicting the uplift between the months (in fact, running a standard R2 on the uplift based on this model's predictions vs. reality gets an almost identical value to the modifies R2 above).\n",
    "\n",
    "So as before we can look at the difference between the predicted and real uplift generated by this model, and see if that provides any information to go forwards"
   ]
  },
  {
   "cell_type": "code",
   "execution_count": 42,
   "metadata": {},
   "outputs": [
    {
     "data": {
      "image/png": "[encoded data removed]",
      "text/plain": [
       "<Figure size 1152x576 with 2 Axes>"
      ]
     },
     "metadata": {
      "needs_background": "light"
     },
     "output_type": "display_data"
    }
   ],
   "source": [
    "fig, ax = plt.subplots(ncols=2,figsize=(16,8))\n",
    "\n",
    "ax[0].scatter(y_test-X_test[\"jun_19_av\"],y_pred-X_test[\"jun_19_av\"], c=\"k\")\n",
    "ax[0].plot([-2,4],[-2,4], c=\"r\")\n",
    "ax[0].set_xlabel(\"True y\")\n",
    "ax[0].set_ylabel(\"Pred y\")\n",
    "\n",
    "plt.scatter((np.exp(y_test)-0.01)-(np.exp(X_test[\"jun_19_av\"])-0.01),\n",
    "            (np.exp(y_pred)-0.01)-(np.exp(X_test[\"jun_19_av\"])-0.01),c=\"k\")\n",
    "plt.plot([-1000,5000],[-1000,5000], c=\"r\")\n",
    "ax[1].set_xlabel(\"True y\")\n",
    "ax[1].set_ylabel(\"Pred y\")\n",
    "\n",
    "plt.show()"
   ]
  },
  {
   "cell_type": "markdown",
   "metadata": {},
   "source": [
    "And looking at where the biggest residuals are:"
   ]
  },
  {
   "cell_type": "code",
   "execution_count": null,
   "metadata": {},
   "outputs": [],
   "source": [
    "X_test[\"resid\"] = (np.exp(y_pred)-0.01) - (np.exp(y_test)-0.01)\n",
    "X_test[\"target\"]= (np.exp(y_test)-0.01)\n",
    "X_test[\"jun_19_av\"] = np.exp(X_test[\"jun_19_av\"])-0.01\n",
    "X_test[\"pred\"] = np.exp(y_pred)-0.01\n",
    "X_test[\"pred_uplift\"] = X_test[\"pred\"]-X_test[\"jun_19_av\"]\n",
    "X_test[\"real_uplift\"] = X_test[\"target\"]-X_test[\"jun_19_av\"]\n",
    "X_test[\"uplift_resid\"] = X_test[\"pred_uplift\"] - X_test[\"real_uplift\"]\n",
    "X_test[\"absolute_resid\"] = [abs(i) for i in X_test[\"uplift_resid\"]]"
   ]
  },
  {
   "cell_type": "code",
   "execution_count": 45,
   "metadata": {},
   "outputs": [
    {
     "data": {
      "text/html": [
       "<div>\n",
       "<style scoped>\n",
       "    .dataframe tbody tr th:only-of-type {\n",
       "        vertical-align: middle;\n",
       "    }\n",
       "\n",
       "    .dataframe tbody tr th {\n",
       "        vertical-align: top;\n",
       "    }\n",
       "\n",
       "    .dataframe thead th {\n",
       "        text-align: right;\n",
       "    }\n",
       "</style>\n",
       "<table border=\"1\" class=\"dataframe\">\n",
       "  <thead>\n",
       "    <tr style=\"text-align: right;\">\n",
       "      <th></th>\n",
       "      <th>appid</th>\n",
       "      <th>name</th>\n",
       "      <th>discount</th>\n",
       "      <th>jun_19_av</th>\n",
       "      <th>target</th>\n",
       "      <th>pred</th>\n",
       "      <th>resid</th>\n",
       "      <th>real_uplift</th>\n",
       "      <th>pred_uplift</th>\n",
       "      <th>uplift_resid</th>\n",
       "      <th>absolute_resid</th>\n",
       "    </tr>\n",
       "  </thead>\n",
       "  <tbody>\n",
       "    <tr>\n",
       "      <th>3272</th>\n",
       "      <td>322330</td>\n",
       "      <td>Don't Starve Together</td>\n",
       "      <td>60.0</td>\n",
       "      <td>11238.05</td>\n",
       "      <td>9219.31</td>\n",
       "      <td>15345.200418</td>\n",
       "      <td>6125.890418</td>\n",
       "      <td>-2018.74</td>\n",
       "      <td>4107.150418</td>\n",
       "      <td>6125.890418</td>\n",
       "      <td>6125.890418</td>\n",
       "    </tr>\n",
       "    <tr>\n",
       "      <th>649</th>\n",
       "      <td>39210</td>\n",
       "      <td>FINAL FANTASY XIV Online</td>\n",
       "      <td>0.0</td>\n",
       "      <td>14339.24</td>\n",
       "      <td>23105.44</td>\n",
       "      <td>18029.717571</td>\n",
       "      <td>-5075.722429</td>\n",
       "      <td>8766.20</td>\n",
       "      <td>3690.477571</td>\n",
       "      <td>-5075.722429</td>\n",
       "      <td>5075.722429</td>\n",
       "    </tr>\n",
       "    <tr>\n",
       "      <th>2308</th>\n",
       "      <td>281990</td>\n",
       "      <td>Stellaris</td>\n",
       "      <td>75.0</td>\n",
       "      <td>15030.93</td>\n",
       "      <td>10976.16</td>\n",
       "      <td>15164.574862</td>\n",
       "      <td>4188.414862</td>\n",
       "      <td>-4054.77</td>\n",
       "      <td>133.644862</td>\n",
       "      <td>4188.414862</td>\n",
       "      <td>4188.414862</td>\n",
       "    </tr>\n",
       "    <tr>\n",
       "      <th>17</th>\n",
       "      <td>550</td>\n",
       "      <td>Left 4 Dead 2</td>\n",
       "      <td>80.0</td>\n",
       "      <td>10076.32</td>\n",
       "      <td>11248.62</td>\n",
       "      <td>13924.381623</td>\n",
       "      <td>2675.761623</td>\n",
       "      <td>1172.30</td>\n",
       "      <td>3848.061623</td>\n",
       "      <td>2675.761623</td>\n",
       "      <td>2675.761623</td>\n",
       "    </tr>\n",
       "    <tr>\n",
       "      <th>107</th>\n",
       "      <td>4000</td>\n",
       "      <td>Garry's Mod</td>\n",
       "      <td>75.0</td>\n",
       "      <td>29240.97</td>\n",
       "      <td>30954.39</td>\n",
       "      <td>29144.811997</td>\n",
       "      <td>-1809.578003</td>\n",
       "      <td>1713.42</td>\n",
       "      <td>-96.158003</td>\n",
       "      <td>-1809.578003</td>\n",
       "      <td>1809.578003</td>\n",
       "    </tr>\n",
       "    <tr>\n",
       "      <th>1573</th>\n",
       "      <td>242760</td>\n",
       "      <td>The Forest</td>\n",
       "      <td>0.0</td>\n",
       "      <td>4353.57</td>\n",
       "      <td>5398.07</td>\n",
       "      <td>3900.766129</td>\n",
       "      <td>-1497.303871</td>\n",
       "      <td>1044.50</td>\n",
       "      <td>-452.803871</td>\n",
       "      <td>-1497.303871</td>\n",
       "      <td>1497.303871</td>\n",
       "    </tr>\n",
       "    <tr>\n",
       "      <th>1198</th>\n",
       "      <td>211820</td>\n",
       "      <td>Starbound</td>\n",
       "      <td>35.0</td>\n",
       "      <td>4177.90</td>\n",
       "      <td>5837.10</td>\n",
       "      <td>4554.398177</td>\n",
       "      <td>-1282.701823</td>\n",
       "      <td>1659.20</td>\n",
       "      <td>376.498177</td>\n",
       "      <td>-1282.701823</td>\n",
       "      <td>1282.701823</td>\n",
       "    </tr>\n",
       "    <tr>\n",
       "      <th>6914</th>\n",
       "      <td>480490</td>\n",
       "      <td>Prey</td>\n",
       "      <td>0.0</td>\n",
       "      <td>570.80</td>\n",
       "      <td>1898.43</td>\n",
       "      <td>624.913564</td>\n",
       "      <td>-1273.516436</td>\n",
       "      <td>1327.63</td>\n",
       "      <td>54.113564</td>\n",
       "      <td>-1273.516436</td>\n",
       "      <td>1273.516436</td>\n",
       "    </tr>\n",
       "    <tr>\n",
       "      <th>4465</th>\n",
       "      <td>367520</td>\n",
       "      <td>Hollow Knight</td>\n",
       "      <td>40.0</td>\n",
       "      <td>2160.58</td>\n",
       "      <td>3819.60</td>\n",
       "      <td>2692.054812</td>\n",
       "      <td>-1127.545188</td>\n",
       "      <td>1659.02</td>\n",
       "      <td>531.474812</td>\n",
       "      <td>-1127.545188</td>\n",
       "      <td>1127.545188</td>\n",
       "    </tr>\n",
       "    <tr>\n",
       "      <th>3006</th>\n",
       "      <td>311690</td>\n",
       "      <td>Enter the Gungeon</td>\n",
       "      <td>50.0</td>\n",
       "      <td>2699.46</td>\n",
       "      <td>2136.73</td>\n",
       "      <td>3173.654353</td>\n",
       "      <td>1036.924353</td>\n",
       "      <td>-562.73</td>\n",
       "      <td>474.194353</td>\n",
       "      <td>1036.924353</td>\n",
       "      <td>1036.924353</td>\n",
       "    </tr>\n",
       "    <tr>\n",
       "      <th>13380</th>\n",
       "      <td>960090</td>\n",
       "      <td>Bloons TD 6</td>\n",
       "      <td>30.0</td>\n",
       "      <td>538.29</td>\n",
       "      <td>1518.83</td>\n",
       "      <td>553.192626</td>\n",
       "      <td>-965.637374</td>\n",
       "      <td>980.54</td>\n",
       "      <td>14.902626</td>\n",
       "      <td>-965.637374</td>\n",
       "      <td>965.637374</td>\n",
       "    </tr>\n",
       "    <tr>\n",
       "      <th>12225</th>\n",
       "      <td>834910</td>\n",
       "      <td>ATLAS</td>\n",
       "      <td>67.0</td>\n",
       "      <td>3565.52</td>\n",
       "      <td>2816.61</td>\n",
       "      <td>3736.936139</td>\n",
       "      <td>920.326139</td>\n",
       "      <td>-748.91</td>\n",
       "      <td>171.416139</td>\n",
       "      <td>920.326139</td>\n",
       "      <td>920.326139</td>\n",
       "    </tr>\n",
       "    <tr>\n",
       "      <th>2606</th>\n",
       "      <td>294100</td>\n",
       "      <td>RimWorld</td>\n",
       "      <td>0.0</td>\n",
       "      <td>10375.04</td>\n",
       "      <td>10041.86</td>\n",
       "      <td>10932.668394</td>\n",
       "      <td>890.808394</td>\n",
       "      <td>-333.18</td>\n",
       "      <td>557.628394</td>\n",
       "      <td>890.808394</td>\n",
       "      <td>890.808394</td>\n",
       "    </tr>\n",
       "    <tr>\n",
       "      <th>8371</th>\n",
       "      <td>552500</td>\n",
       "      <td>Warhammer: Vermintide 2</td>\n",
       "      <td>66.0</td>\n",
       "      <td>3112.17</td>\n",
       "      <td>2389.22</td>\n",
       "      <td>3274.740616</td>\n",
       "      <td>885.520616</td>\n",
       "      <td>-722.95</td>\n",
       "      <td>162.570616</td>\n",
       "      <td>885.520616</td>\n",
       "      <td>885.520616</td>\n",
       "    </tr>\n",
       "    <tr>\n",
       "      <th>6105</th>\n",
       "      <td>438740</td>\n",
       "      <td>Friday the 13th: The Game</td>\n",
       "      <td>80.0</td>\n",
       "      <td>699.68</td>\n",
       "      <td>1670.09</td>\n",
       "      <td>801.807875</td>\n",
       "      <td>-868.282125</td>\n",
       "      <td>970.41</td>\n",
       "      <td>102.127875</td>\n",
       "      <td>-868.282125</td>\n",
       "      <td>868.282125</td>\n",
       "    </tr>\n",
       "  </tbody>\n",
       "</table>\n",
       "</div>"
      ],
      "text/plain": [
       "        appid                       name  discount  jun_19_av    target  \\\n",
       "3272   322330      Don't Starve Together      60.0   11238.05   9219.31   \n",
       "649     39210   FINAL FANTASY XIV Online       0.0   14339.24  23105.44   \n",
       "2308   281990                  Stellaris      75.0   15030.93  10976.16   \n",
       "17        550              Left 4 Dead 2      80.0   10076.32  11248.62   \n",
       "107      4000                Garry's Mod      75.0   29240.97  30954.39   \n",
       "1573   242760                 The Forest       0.0    4353.57   5398.07   \n",
       "1198   211820                  Starbound      35.0    4177.90   5837.10   \n",
       "6914   480490                       Prey       0.0     570.80   1898.43   \n",
       "4465   367520              Hollow Knight      40.0    2160.58   3819.60   \n",
       "3006   311690          Enter the Gungeon      50.0    2699.46   2136.73   \n",
       "13380  960090                Bloons TD 6      30.0     538.29   1518.83   \n",
       "12225  834910                      ATLAS      67.0    3565.52   2816.61   \n",
       "2606   294100                   RimWorld       0.0   10375.04  10041.86   \n",
       "8371   552500    Warhammer: Vermintide 2      66.0    3112.17   2389.22   \n",
       "6105   438740  Friday the 13th: The Game      80.0     699.68   1670.09   \n",
       "\n",
       "               pred        resid  real_uplift  pred_uplift  uplift_resid  \\\n",
       "3272   15345.200418  6125.890418     -2018.74  4107.150418   6125.890418   \n",
       "649    18029.717571 -5075.722429      8766.20  3690.477571  -5075.722429   \n",
       "2308   15164.574862  4188.414862     -4054.77   133.644862   4188.414862   \n",
       "17     13924.381623  2675.761623      1172.30  3848.061623   2675.761623   \n",
       "107    29144.811997 -1809.578003      1713.42   -96.158003  -1809.578003   \n",
       "1573    3900.766129 -1497.303871      1044.50  -452.803871  -1497.303871   \n",
       "1198    4554.398177 -1282.701823      1659.20   376.498177  -1282.701823   \n",
       "6914     624.913564 -1273.516436      1327.63    54.113564  -1273.516436   \n",
       "4465    2692.054812 -1127.545188      1659.02   531.474812  -1127.545188   \n",
       "3006    3173.654353  1036.924353      -562.73   474.194353   1036.924353   \n",
       "13380    553.192626  -965.637374       980.54    14.902626   -965.637374   \n",
       "12225   3736.936139   920.326139      -748.91   171.416139    920.326139   \n",
       "2606   10932.668394   890.808394      -333.18   557.628394    890.808394   \n",
       "8371    3274.740616   885.520616      -722.95   162.570616    885.520616   \n",
       "6105     801.807875  -868.282125       970.41   102.127875   -868.282125   \n",
       "\n",
       "       absolute_resid  \n",
       "3272      6125.890418  \n",
       "649       5075.722429  \n",
       "2308      4188.414862  \n",
       "17        2675.761623  \n",
       "107       1809.578003  \n",
       "1573      1497.303871  \n",
       "1198      1282.701823  \n",
       "6914      1273.516436  \n",
       "4465      1127.545188  \n",
       "3006      1036.924353  \n",
       "13380      965.637374  \n",
       "12225      920.326139  \n",
       "2606       890.808394  \n",
       "8371       885.520616  \n",
       "6105       868.282125  "
      ]
     },
     "execution_count": 45,
     "metadata": {},
     "output_type": "execute_result"
    }
   ],
   "source": [
    "X_test[[\"appid\", \"name\", \"discount\", \"jun_19_av\",\n",
    "        \"target\", \"pred\", \"resid\", \"real_uplift\", \n",
    "        \"pred_uplift\", \"uplift_resid\", \"absolute_resid\"]] \\\n",
    ".sort_values(\"absolute_resid\", ascending=False).head(15)"
   ]
  },
  {
   "cell_type": "markdown",
   "metadata": {},
   "source": [
    "The size of the residuals quickly drops off, suggesting that most of the innacuracy is coming from a few predictions. And these tend to come from games that are among the most popular.\n",
    "\n",
    "So perhaps by restricting the games included in a model by current player numbersit's possible to make a more stable model?\n",
    "\n",
    "Below I slowly restrict games more and more to see if there is an optimal upper value  to create a model with"
   ]
  },
  {
   "cell_type": "code",
   "execution_count": 79,
   "metadata": {},
   "outputs": [
    {
     "data": {
      "application/vnd.jupyter.widget-view+json": {
       "model_id": "e1e59783058e4d1185b16ce88c130c56",
       "version_major": 2,
       "version_minor": 0
      },
      "text/plain": [
       "HBox(children=(IntProgress(value=0, max=8), HTML(value='')))"
      ]
     },
     "metadata": {},
     "output_type": "display_data"
    },
    {
     "name": "stdout",
     "output_type": "stream",
     "text": [
      "\n"
     ]
    }
   ],
   "source": [
    "#generate some dataframes to save our scores\n",
    "new_r2_df = pd.DataFrame()\n",
    "unlogged_new_r2_df = pd.DataFrame()\n",
    "\n",
    "#cycle through player numbers to restrict games by\n",
    "for i in tqdm_notebook([50000] + [2**i for i in range(13,6,-1)]):\n",
    "    \n",
    "    #create lists to save scores per restriction\n",
    "    new_r2 = []\n",
    "    unlogged_new_r2 = []\n",
    "    \n",
    "    #cycle several times to check stability\n",
    "    for n in range(11):\n",
    "        \n",
    "        #filtering dataframe\n",
    "        X=steam_df_log2[steam_df_log2[\"jun_19_av\"] <np.log(i+0.01)].copy()\n",
    "        y = X.pop(\"jul_19_av\")\n",
    "\n",
    "        #random state undefinied allows for different split each time to check stability\n",
    "        X_train, X_test, y_train, y_test = train_test_split(X, y, test_size=0.2)\n",
    "        \n",
    "\n",
    "        #instatiating pipeline classes\n",
    "        dropper = Dropper([\"index\", \"appid\", \"name\", \"developer\", \"publisher\", \"release_date\",\n",
    "                           \"jun_jul_avupliftpc\", \"may_jun_avupliftpc\", \"jun_jul_avuplift\", \"may_jun_avuplift\",\n",
    "                          ])\n",
    "        dummier = Dummier(X, [\"required_age\"])\n",
    "        scaler = StandardScaler()\n",
    "        model = RandomForestRegressor(n_estimators=50)\n",
    "\n",
    "        tree_pipe = Pipeline(steps = [(\"dropper\", dropper),\n",
    "                                      (\"dummier\", dummier),\n",
    "                                      (\"scaler\",scaler),\n",
    "                                      (\"model\", model)])\n",
    "        \n",
    "\n",
    "        #fitting and getting predictions/scores\n",
    "        tree_pipe.fit(X_train, y_train)\n",
    "        y_pred = tree_pipe.predict(X_test)\n",
    "\n",
    "        new_r2.append(mod_r2(y_test, y_pred, X_test[\"jun_19_av\"]))\n",
    "        unlogged_new_r2.append(mod_r2(np.exp(y_test)-0.01, np.exp(y_pred)-0.01, np.exp(X_test[\"jun_19_av\"]-0.01)))\n",
    "\n",
    "        \n",
    "    #adding scores to dataframe\n",
    "    new_r2_df[i] = new_r2\n",
    "    unlogged_new_r2_df[i] = unlogged_new_r2"
   ]
  },
  {
   "cell_type": "markdown",
   "metadata": {},
   "source": [
    "Looking at the scores by upper limit of player number, around 2000 is it seems to reach a good balance of mean/std while cutting off as few games as possible (it still keeps over 99% of the games)"
   ]
  },
  {
   "cell_type": "code",
   "execution_count": 81,
   "metadata": {},
   "outputs": [
    {
     "data": {
      "text/html": [
       "<div>\n",
       "<style scoped>\n",
       "    .dataframe tbody tr th:only-of-type {\n",
       "        vertical-align: middle;\n",
       "    }\n",
       "\n",
       "    .dataframe tbody tr th {\n",
       "        vertical-align: top;\n",
       "    }\n",
       "\n",
       "    .dataframe thead th {\n",
       "        text-align: right;\n",
       "    }\n",
       "</style>\n",
       "<table border=\"1\" class=\"dataframe\">\n",
       "  <thead>\n",
       "    <tr style=\"text-align: right;\">\n",
       "      <th></th>\n",
       "      <th>mean</th>\n",
       "      <th>std</th>\n",
       "    </tr>\n",
       "  </thead>\n",
       "  <tbody>\n",
       "    <tr>\n",
       "      <th>50000</th>\n",
       "      <td>-1.075884</td>\n",
       "      <td>1.388611</td>\n",
       "    </tr>\n",
       "    <tr>\n",
       "      <th>8192</th>\n",
       "      <td>-0.110577</td>\n",
       "      <td>0.323163</td>\n",
       "    </tr>\n",
       "    <tr>\n",
       "      <th>4096</th>\n",
       "      <td>0.154985</td>\n",
       "      <td>0.277268</td>\n",
       "    </tr>\n",
       "    <tr>\n",
       "      <th>2048</th>\n",
       "      <td>0.181697</td>\n",
       "      <td>0.090715</td>\n",
       "    </tr>\n",
       "    <tr>\n",
       "      <th>1024</th>\n",
       "      <td>0.108667</td>\n",
       "      <td>0.105389</td>\n",
       "    </tr>\n",
       "    <tr>\n",
       "      <th>512</th>\n",
       "      <td>0.199811</td>\n",
       "      <td>0.082647</td>\n",
       "    </tr>\n",
       "    <tr>\n",
       "      <th>256</th>\n",
       "      <td>0.177708</td>\n",
       "      <td>0.105123</td>\n",
       "    </tr>\n",
       "    <tr>\n",
       "      <th>128</th>\n",
       "      <td>0.093795</td>\n",
       "      <td>0.081093</td>\n",
       "    </tr>\n",
       "  </tbody>\n",
       "</table>\n",
       "</div>"
      ],
      "text/plain": [
       "           mean       std\n",
       "50000 -1.075884  1.388611\n",
       "8192  -0.110577  0.323163\n",
       "4096   0.154985  0.277268\n",
       "2048   0.181697  0.090715\n",
       "1024   0.108667  0.105389\n",
       "512    0.199811  0.082647\n",
       "256    0.177708  0.105123\n",
       "128    0.093795  0.081093"
      ]
     },
     "execution_count": 81,
     "metadata": {},
     "output_type": "execute_result"
    }
   ],
   "source": [
    "#mean and std of mod r2 scores by filter limit\n",
    "unlogged_new_r2_df.describe().T[[\"mean\", \"std\"]]"
   ]
  },
  {
   "cell_type": "code",
   "execution_count": 136,
   "metadata": {},
   "outputs": [
    {
     "data": {
      "image/png": "[encoded data removed]",
      "text/plain": [
       "<Figure size 576x360 with 1 Axes>"
      ]
     },
     "metadata": {
      "needs_background": "light"
     },
     "output_type": "display_data"
    }
   ],
   "source": [
    "#plot of the above\n",
    "plt.figure(figsize=(8,5))\n",
    "plt.plot([50000] +[2**i for i in range(13,6,-1)], unlogged_new_r2_df.describe().T[[\"mean\"]],label=\"mean\")\n",
    "plt.plot([50000] +[2**i for i in range(13,6,-1)], unlogged_new_r2_df.describe().T[[\"std\"]], label=\"std\")\n",
    "plt.xlim(16000, 0) \n",
    "plt.ylim(-0.4, 1)\n",
    "plt.title(\"CV by max player number\")\n",
    "plt.legend(fontsize=16)\n",
    "plt.show()"
   ]
  },
  {
   "cell_type": "code",
   "execution_count": 137,
   "metadata": {},
   "outputs": [
    {
     "data": {
      "text/plain": [
       "0.99328809558932"
      ]
     },
     "execution_count": 137,
     "metadata": {},
     "output_type": "execute_result"
    }
   ],
   "source": [
    "#proportion of games still kept with the fildter of 2048\n",
    "((steam_df[\"jun_19_av\"] <2048).sum()/len(steam_df))"
   ]
  },
  {
   "cell_type": "markdown",
   "metadata": {},
   "source": [
    "So taking all of this into account, one final model search to find the optimal type of model:\n",
    "\n",
    "It's possible some extra accuracy may be reached through optimisation, but it is doubtful that "
   ]
  },
  {
   "cell_type": "code",
   "execution_count": 166,
   "metadata": {},
   "outputs": [
    {
     "name": "stdout",
     "output_type": "stream",
     "text": [
      "LinearRegression(copy_X=True, fit_intercept=True, n_jobs=None, normalize=False)\n",
      "CV Mod R2 mean: 0.160\t CV mod R2 std: 0.020\n",
      "CV Mod R2a mean: -0.060\t CV mod R2a std: 0.267\n",
      "\n",
      "Test Mod R2: 0.176\n",
      "TestMod R2 (actual): 0.211\n",
      "\n",
      "Ridge(alpha=1.7886495290574351, copy_X=True, fit_intercept=True, max_iter=None,\n",
      "      normalize=False, random_state=None, solver='auto', tol=0.001)\n",
      "CV Mod R2 mean: 0.166\t CV mod R2 std: 0.017\n",
      "CV Mod R2a mean: 0.070\t CV mod R2a std: 0.138\n",
      "\n",
      "Test Mod R2: 0.176\n",
      "TestMod R2 (actual): 0.211\n",
      "\n",
      "Lasso(alpha=0.005641601194274763, copy_X=True, fit_intercept=True,\n",
      "      max_iter=1000, normalize=False, positive=False, precompute=False,\n",
      "      random_state=None, selection='cyclic', tol=0.0001, warm_start=False)\n",
      "CV Mod R2 mean: -2.307\t CV mod R2 std: 0.168\n",
      "CV Mod R2a mean: -9.404\t CV mod R2a std: 3.781\n",
      "\n",
      "Test Mod R2: -1.942\n",
      "TestMod R2 (actual): -11.082\n",
      "\n",
      "RandomForestRegressor(bootstrap=True, criterion='mse', max_depth=None,\n",
      "                      max_features='auto', max_leaf_nodes=None,\n",
      "                      min_impurity_decrease=0.0, min_impurity_split=None,\n",
      "                      min_samples_leaf=1, min_samples_split=2,\n",
      "                      min_weight_fraction_leaf=0.0, n_estimators=50,\n",
      "                      n_jobs=None, oob_score=False, random_state=None,\n",
      "                      verbose=0, warm_start=False)\n",
      "CV Mod R2 mean: 0.171\t CV mod R2 std: 0.013\n",
      "CV Mod R2a mean: 0.133\t CV mod R2a std: 0.070\n",
      "\n",
      "Test Mod R2: 0.218\n",
      "TestMod R2 (actual): 0.043\n",
      "\n",
      "GradientBoostingRegressor(alpha=0.9, criterion='friedman_mse', init=None,\n",
      "                          learning_rate=0.1, loss='ls', max_depth=3,\n",
      "                          max_features=None, max_leaf_nodes=None,\n",
      "                          min_impurity_decrease=0.0, min_impurity_split=None,\n",
      "                          min_samples_leaf=1, min_samples_split=2,\n",
      "                          min_weight_fraction_leaf=0.0, n_estimators=100,\n",
      "                          n_iter_no_change=None, presort='auto',\n",
      "                          random_state=None, subsample=1.0, tol=0.0001,\n",
      "                          validation_fraction=0.1, verbose=0, warm_start=False)\n",
      "CV Mod R2 mean: 0.217\t CV mod R2 std: 0.030\n",
      "CV Mod R2a mean: -0.278\t CV mod R2a std: 0.259\n",
      "\n",
      "Test Mod R2: 0.223\n",
      "TestMod R2 (actual): -0.773\n",
      "\n",
      "DecisionTreeRegressor(criterion='mse', max_depth=None, max_features=None,\n",
      "                      max_leaf_nodes=None, min_impurity_decrease=0.0,\n",
      "                      min_impurity_split=None, min_samples_leaf=1,\n",
      "                      min_samples_split=2, min_weight_fraction_leaf=0.0,\n",
      "                      presort=False, random_state=None, splitter='best')\n",
      "CV Mod R2 mean: -0.567\t CV mod R2 std: 0.080\n",
      "CV Mod R2a mean: -0.794\t CV mod R2a std: 0.677\n",
      "\n",
      "Test Mod R2: -0.532\n",
      "TestMod R2 (actual): -0.237\n",
      "\n",
      "AdaBoostRegressor(base_estimator=None, learning_rate=1.0, loss='linear',\n",
      "                  n_estimators=50, random_state=None)\n",
      "CV Mod R2 mean: -0.123\t CV mod R2 std: 0.060\n",
      "CV Mod R2a mean: -5.348\t CV mod R2a std: 1.741\n",
      "\n",
      "Test Mod R2: -0.085\n",
      "TestMod R2 (actual): -5.695\n",
      "\n",
      "ExtraTreesRegressor(bootstrap=False, criterion='mse', max_depth=None,\n",
      "                    max_features='auto', max_leaf_nodes=None,\n",
      "                    min_impurity_decrease=0.0, min_impurity_split=None,\n",
      "                    min_samples_leaf=1, min_samples_split=2,\n",
      "                    min_weight_fraction_leaf=0.0, n_estimators=100, n_jobs=None,\n",
      "                    oob_score=False, random_state=None, verbose=0,\n",
      "                    warm_start=False)\n",
      "CV Mod R2 mean: 0.209\t CV mod R2 std: 0.020\n",
      "CV Mod R2a mean: 0.269\t CV mod R2a std: 0.074\n",
      "\n",
      "Test Mod R2: 0.215\n",
      "TestMod R2 (actual): -0.137\n",
      "\n",
      "BaggingRegressor(base_estimator=None, bootstrap=True, bootstrap_features=False,\n",
      "                 max_features=1.0, max_samples=1.0, n_estimators=10,\n",
      "                 n_jobs=None, oob_score=False, random_state=None, verbose=0,\n",
      "                 warm_start=False)\n",
      "CV Mod R2 mean: 0.114\t CV mod R2 std: 0.039\n",
      "CV Mod R2a mean: -0.049\t CV mod R2a std: 0.124\n",
      "\n",
      "Test Mod R2: 0.158\n",
      "TestMod R2 (actual): 0.063\n",
      "\n"
     ]
    }
   ],
   "source": [
    "#Due to using my own evaluation function, I need to create my own CV test\n",
    "\n",
    "\n",
    "#Cycling therough several models to compare performance\n",
    "for i,model in enumerate([LinearRegression(), Ridge(), Lasso(), RandomForestRegressor(n_estimators=50), \n",
    "                             GradientBoostingRegressor(), DecisionTreeRegressor(), AdaBoostRegressor(), \n",
    "                             ExtraTreesRegressor(n_estimators=100), BaggingRegressor()]):\n",
    "   \n",
    "    #creating lists to hold scores\n",
    "    cv_modr2 = []\n",
    "    cv_modr2_actual = []\n",
    "    \n",
    "    #filtering data and splitting out target\n",
    "    X=steam_df_log2[steam_df_log2[\"jun_19_av\"]<np.log(2048+0.01)].copy()\n",
    "    y = X.pop(\"jul_19_av\")\n",
    "    \n",
    "    #assigning random state so all model are compared on even ground\n",
    "    X_train, X_test, y_train, y_test = train_test_split(X, y, test_size=0.2, random_state=2)\n",
    "    \n",
    "    #setting up classes and pipelines\n",
    "    dropper = Dropper([\"index\", \"appid\", \"name\", \"developer\", \"publisher\", \"release_date\",\n",
    "                       \"jun_jul_avupliftpc\", \"may_jun_avupliftpc\", \"jun_jul_avuplift\", \"may_jun_avuplift\",\n",
    "                      ])\n",
    "    dummier = Dummier(X, [\"required_age\"])\n",
    "    scaler = StandardScaler()\n",
    "    model = model\n",
    "    best_ridge = RidgeCV(alphas = np.logspace(-5,5,100), cv=10)\n",
    "    best_lasso = LassoCV(n_alphas = 100, cv=5)\n",
    "           \n",
    "\n",
    "    pipe = Pipeline(steps = [(\"dropper\", dropper),\n",
    "                                  (\"dummier\", dummier),\n",
    "                                 (\"scaler\",scaler),\n",
    "                                 (\"model\", model)])\n",
    "    \n",
    "    lasso_pipe = Pipeline(steps = [(\"dropper\", dropper),\n",
    "                             (\"dummier\", dummier),\n",
    "                             (\"scaler\",scaler),\n",
    "                             (\"best_laso\", best_lasso)])\n",
    "    \n",
    "    ridge_pipe = Pipeline(steps = [(\"dropper\", dropper),\n",
    "                             (\"dummier\", dummier),\n",
    "                             (\"scaler\",scaler),\n",
    "                             (\"best_ridge\", best_ridge)])\n",
    "\n",
    "    #cross-validating train set\n",
    "    for n in range(6):\n",
    "        X_train2, X_test2, y_train2, y_test2 = train_test_split(X_train, y_train, test_size=0.2)\n",
    "        \n",
    "        #addin in a CV for regularisation level of Ridge and Lasso\n",
    "        if i == 1:\n",
    "            model = Ridge(alpha =ridge_pipe.fit(X_train2, y_train2).steps[3][1].alpha_)\n",
    "        elif i == 2:\n",
    "            model = Lasso(alpha =lasso_pipe.fit(X_train2, y_train2).steps[3][1].alpha_)\n",
    "        else:\n",
    "            pass\n",
    "        \n",
    "        pipe.fit(X_train2, y_train2)\n",
    "        y_pred2 = pipe.predict(X_test2)\n",
    "        \n",
    "        cv_modr2.append(mod_r2(y_test2,y_pred2, X_test2[\"jun_19_av\"]))\n",
    "        cv_modr2_actual.append(mod_r2(np.exp(y_test2)-0.01,np.exp(y_pred2)-0.01, np.exp(X_test2[\"jun_19_av\"])-0.01))\n",
    "    \n",
    "    #After cross-validatin train set, running test\n",
    "    if i == 1:\n",
    "        model = Ridge(alpha =ridge_pipe.fit(X_train, y_train).steps[3][1].alpha_)\n",
    "    elif i == 2:\n",
    "        model = Lasso(alpha =lasso_pipe.fit(X_train, y_train).steps[3][1].alpha_)\n",
    "    else:\n",
    "        pass\n",
    "    \n",
    "    pipe.fit(X_train, y_train)\n",
    "    y_pred = pipe.predict(X_test)\n",
    "\n",
    "    print(model)\n",
    "    print(\"CV Mod R2 mean: {0:.3f}\\t CV mod R2 std: {1:.3f}\".format(np.mean(cv_modr2), np.std(cv_modr2)))\n",
    "    print(\"CV Mod R2a mean: {0:.3f}\\t CV mod R2a std: {1:.3f}\".format(np.mean(cv_modr2_actual), np.std(cv_modr2_actual)))\n",
    "    print(\"\")\n",
    "    print(\"Test Mod R2: {0:.3f}\".format(mod_r2(y_test,y_pred, X_test[\"jun_19_av\"])))\n",
    "    print(\"TestMod R2 (actual): {0:.3f}\".format(mod_r2((np.exp(y_test)-0.01),(np.exp(y_pred)-0.01), np.exp(X_test[\"jun_19_av\"])-0.01)))\n",
    "    print(\"\")"
   ]
  },
  {
   "cell_type": "markdown",
   "metadata": {},
   "source": [
    "The Random Forest will be my final model as that is the one that does best on both having a (relatively) high score and a low standard deviation for the CV. Though it may be worth looking at the Ridge further too as that has some success with the test score. \n",
    "\n",
    "Optimisation/gridsearching both of them may allow some further accuracy to be squeezed out, but I would be very surprised if the scores shift significantly"
   ]
  },
  {
   "cell_type": "code",
   "execution_count": null,
   "metadata": {},
   "outputs": [],
   "source": []
  }
 ],
 "metadata": {
  "kernelspec": {
   "display_name": "Python 3",
   "language": "python",
   "name": "python3"
  },
  "language_info": {
   "codemirror_mode": {
    "name": "ipython",
    "version": 3
   },
   "file_extension": ".py",
   "mimetype": "text/x-python",
   "name": "python",
   "nbconvert_exporter": "python",
   "pygments_lexer": "ipython3",
   "version": "3.7.3"
  }
 },
 "nbformat": 4,
 "nbformat_minor": 2
}
