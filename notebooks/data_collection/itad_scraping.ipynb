{
 "cells": [
  {
   "cell_type": "code",
   "execution_count": 1,
   "metadata": {},
   "outputs": [],
   "source": [
    "import pandas as pd\n",
    "import numpy as np\n",
    "from bs4 import BeautifulSoup, SoupStrainer\n",
    "import requests\n",
    "from tqdm import tqdm, tqdm_notebook\n",
    "import matplotlib.pyplot as plt\n",
    "from fake_useragent import UserAgent\n",
    "import time\n",
    "import csv"
   ]
  },
  {
   "cell_type": "code",
   "execution_count": 2,
   "metadata": {},
   "outputs": [],
   "source": [
    "#importing cleaned game_ids\n",
    "game_ids=pd.read_csv(\"../data/steam_clean.csv\")\n",
    "game_ids = game_ids[[\"appid\", \"name\"]]"
   ]
  },
  {
   "cell_type": "markdown",
   "metadata": {},
   "source": [
    "# Cleaning names"
   ]
  },
  {
   "cell_type": "markdown",
   "metadata": {},
   "source": [
    "Unfortunately ITAD doesn't use Steam appids to identify games (as it is not a steam only website) so the game names had to be modified to match their URLS as best as possible."
   ]
  },
  {
   "cell_type": "code",
   "execution_count": 3,
   "metadata": {},
   "outputs": [],
   "source": [
    "#editing name column to match format of url for scraping\n",
    "\n",
    "#all names lowercase with no space\n",
    "game_ids[\"name_clean\"] = game_ids[\"name\"].str.replace(r\"([\\W]+)\", \"\").str.lower()\n",
    "\n",
    "#removed any \"the\" from start of name\n",
    "game_ids[\"name_clean\"] = game_ids[\"name_clean\"].str.replace(r\"(^the)\", \"\")\n",
    "\n",
    "#all non-zero digits replaced with Roman numerals\n",
    "digits = [(\"1\", \"i\"),\n",
    "         (\"2\" , \"ii\"),\n",
    "         (\"3\", \"iii\"),\n",
    "         (\"4\", \"iv\"),\n",
    "         (\"5\", \"v\"),\n",
    "         (\"6\", \"vi\"),\n",
    "         (\"7\", \"vii\"),\n",
    "         (\"8\", \"viii\"),\n",
    "         (\"9\", \"ix\")]\n",
    "\n",
    "for dig, rom in digits:\n",
    "    game_ids[\"name_clean\"] = game_ids[\"name_clean\"].str.replace(dig, rom)"
   ]
  },
  {
   "cell_type": "code",
   "execution_count": 24,
   "metadata": {},
   "outputs": [
    {
     "data": {
      "text/html": [
       "<div>\n",
       "<style scoped>\n",
       "    .dataframe tbody tr th:only-of-type {\n",
       "        vertical-align: middle;\n",
       "    }\n",
       "\n",
       "    .dataframe tbody tr th {\n",
       "        vertical-align: top;\n",
       "    }\n",
       "\n",
       "    .dataframe thead th {\n",
       "        text-align: right;\n",
       "    }\n",
       "</style>\n",
       "<table border=\"1\" class=\"dataframe\">\n",
       "  <thead>\n",
       "    <tr style=\"text-align: right;\">\n",
       "      <th></th>\n",
       "      <th>appid</th>\n",
       "      <th>name</th>\n",
       "      <th>name_clean</th>\n",
       "    </tr>\n",
       "  </thead>\n",
       "  <tbody>\n",
       "    <tr>\n",
       "      <th>0</th>\n",
       "      <td>10</td>\n",
       "      <td>Counter-Strike</td>\n",
       "      <td>counterstrike</td>\n",
       "    </tr>\n",
       "    <tr>\n",
       "      <th>1</th>\n",
       "      <td>20</td>\n",
       "      <td>Team Fortress Classic</td>\n",
       "      <td>teamfortressclassic</td>\n",
       "    </tr>\n",
       "    <tr>\n",
       "      <th>2</th>\n",
       "      <td>30</td>\n",
       "      <td>Day of Defeat</td>\n",
       "      <td>dayofdefeat</td>\n",
       "    </tr>\n",
       "    <tr>\n",
       "      <th>3</th>\n",
       "      <td>40</td>\n",
       "      <td>Deathmatch Classic</td>\n",
       "      <td>deathmatchclassic</td>\n",
       "    </tr>\n",
       "    <tr>\n",
       "      <th>4</th>\n",
       "      <td>50</td>\n",
       "      <td>Half-Life: Opposing Force</td>\n",
       "      <td>halflifeopposingforce</td>\n",
       "    </tr>\n",
       "  </tbody>\n",
       "</table>\n",
       "</div>"
      ],
      "text/plain": [
       "   appid                       name             name_clean\n",
       "0     10             Counter-Strike          counterstrike\n",
       "1     20      Team Fortress Classic    teamfortressclassic\n",
       "2     30              Day of Defeat            dayofdefeat\n",
       "3     40         Deathmatch Classic      deathmatchclassic\n",
       "4     50  Half-Life: Opposing Force  halflifeopposingforce"
      ]
     },
     "execution_count": 24,
     "metadata": {},
     "output_type": "execute_result"
    }
   ],
   "source": [
    "game_ids.head()"
   ]
  },
  {
   "cell_type": "markdown",
   "metadata": {},
   "source": [
    "# First Scrape"
   ]
  },
  {
   "cell_type": "code",
   "execution_count": 51,
   "metadata": {},
   "outputs": [
    {
     "data": {
      "application/vnd.jupyter.widget-view+json": {
       "model_id": "4d2cef07a2bc4bd6897f5dc14bb2da7b",
       "version_major": 2,
       "version_minor": 0
      },
      "text/plain": [
       "HBox(children=(IntProgress(value=0, max=10), HTML(value='')))"
      ]
     },
     "metadata": {},
     "output_type": "display_data"
    },
    {
     "name": "stdout",
     "output_type": "stream",
     "text": [
      "\n"
     ]
    }
   ],
   "source": [
    "#Initial write\n",
    "delays = [0,1,2]\n",
    "ua=UserAgent()\n",
    "mask = SoupStrainer([\"div\", \"span\"])\n",
    "\n",
    "#start csv writer\n",
    "with open(\"../data/summer_sale_19.csv\", \"w\", newline='', encoding='utf-8') as output_file:\n",
    "    writer = csv.writer(output_file)\n",
    "    writer.writerow([\"appid\", \"name\", \"discount\"])\n",
    "\n",
    "    #loop through game ids and go to URL\n",
    "    for i in tqdm_notebook(range(0,10)):\n",
    "\n",
    "        delay = np.random.choice(delays)\n",
    "        #time.sleep(delay)\n",
    "        on_sale=0\n",
    "        discounts = []\n",
    "        \n",
    "        url = \"https://isthereanydeal.com/game/{}/history/\".format(game_ids[\"name_clean\"][i])\n",
    "        r = requests.get(url, headers={\"User-Agent\" : ua.random})\n",
    "        soup = BeautifulSoup(r.text, 'html.parser', parse_only=mask)\n",
    "\n",
    "        #if no page found, append nan\n",
    "        if soup.find(\"div\", attrs=\"widget__nodata\"):\n",
    "            discounts.append(game_ids[\"appid\"][i])\n",
    "            discounts.append(game_ids[\"name\"][i])\n",
    "            discounts.append(np.nan)\n",
    "\n",
    "        #if page found, append discount (or 0 if none)\n",
    "        else:\n",
    "            for item in soup.find_all(\"div\", attrs={\"class\": \"lg2 game\",\n",
    "                                                    \"data-shop\" : \"steam\"}):\n",
    "                if any(substring in item.span.text for substring in [\"2019-06-26\", \"2019-06-25\"]):\n",
    "                    discounts.append(game_ids[\"appid\"][i])\n",
    "                    discounts.append(game_ids[\"name\"][i])\n",
    "                    discounts.append(item.find_all(\"span\", \"lg2__cut\")[1].text)\n",
    "                    on_sale+=1\n",
    "                    break\n",
    "\n",
    "            if on_sale ==0:\n",
    "                discounts.append(game_ids[\"appid\"][i])\n",
    "                discounts.append(game_ids[\"name\"][i])\n",
    "                discounts.append(0)\n",
    "       \n",
    "        #add info to csv\n",
    "        writer.writerow(discounts)"
   ]
  },
  {
   "cell_type": "code",
   "execution_count": 66,
   "metadata": {},
   "outputs": [
    {
     "data": {
      "text/html": [
       "<div>\n",
       "<style scoped>\n",
       "    .dataframe tbody tr th:only-of-type {\n",
       "        vertical-align: middle;\n",
       "    }\n",
       "\n",
       "    .dataframe tbody tr th {\n",
       "        vertical-align: top;\n",
       "    }\n",
       "\n",
       "    .dataframe thead th {\n",
       "        text-align: right;\n",
       "    }\n",
       "</style>\n",
       "<table border=\"1\" class=\"dataframe\">\n",
       "  <thead>\n",
       "    <tr style=\"text-align: right;\">\n",
       "      <th></th>\n",
       "      <th>appid</th>\n",
       "      <th>name</th>\n",
       "      <th>discount</th>\n",
       "    </tr>\n",
       "  </thead>\n",
       "  <tbody>\n",
       "    <tr>\n",
       "      <th>9209</th>\n",
       "      <td>503080</td>\n",
       "      <td>Echoes of the Past: Kingdom of Despair Collect...</td>\n",
       "      <td>NaN</td>\n",
       "    </tr>\n",
       "    <tr>\n",
       "      <th>9210</th>\n",
       "      <td>503090</td>\n",
       "      <td>Fairy Maids</td>\n",
       "      <td>50%</td>\n",
       "    </tr>\n",
       "    <tr>\n",
       "      <th>9211</th>\n",
       "      <td>503100</td>\n",
       "      <td>Black Hat Cooperative</td>\n",
       "      <td>0</td>\n",
       "    </tr>\n",
       "    <tr>\n",
       "      <th>9212</th>\n",
       "      <td>503130</td>\n",
       "      <td>Red is Dead - The Complex Fun Random Level Fas...</td>\n",
       "      <td>NaN</td>\n",
       "    </tr>\n",
       "    <tr>\n",
       "      <th>9213</th>\n",
       "      <td>503140</td>\n",
       "      <td>Dungeon Punks</td>\n",
       "      <td>0</td>\n",
       "    </tr>\n",
       "  </tbody>\n",
       "</table>\n",
       "</div>"
      ],
      "text/plain": [
       "       appid                                               name discount\n",
       "9209  503080  Echoes of the Past: Kingdom of Despair Collect...      NaN\n",
       "9210  503090                                        Fairy Maids      50%\n",
       "9211  503100                              Black Hat Cooperative        0\n",
       "9212  503130  Red is Dead - The Complex Fun Random Level Fas...      NaN\n",
       "9213  503140                                      Dungeon Punks        0"
      ]
     },
     "execution_count": 66,
     "metadata": {},
     "output_type": "execute_result"
    }
   ],
   "source": [
    "#checking the scrape aligns with the original dataframe\n",
    "pd.read_csv(\"../data/summer_sale_19.csv\").tail()"
   ]
  },
  {
   "cell_type": "code",
   "execution_count": 68,
   "metadata": {},
   "outputs": [
    {
     "data": {
      "text/plain": [
       "appid                503140\n",
       "name          Dungeon Punks\n",
       "name_clean     dungeonpunks\n",
       "Name: 9213, dtype: object"
      ]
     },
     "execution_count": 68,
     "metadata": {},
     "output_type": "execute_result"
    }
   ],
   "source": [
    "game_ids.iloc[9213]"
   ]
  },
  {
   "cell_type": "code",
   "execution_count": 69,
   "metadata": {},
   "outputs": [
    {
     "data": {
      "application/vnd.jupyter.widget-view+json": {
       "model_id": "e9b2763d7c954f818d6731a9dce683da",
       "version_major": 2,
       "version_minor": 0
      },
      "text/plain": [
       "HBox(children=(IntProgress(value=0, max=13365), HTML(value='')))"
      ]
     },
     "metadata": {},
     "output_type": "display_data"
    }
   ],
   "source": [
    "#Subsequent appends\n",
    "ua=UserAgent()\n",
    "mask = SoupStrainer([\"div\", \"span\"])\n",
    "\n",
    "#start csv writer\n",
    "with open(\"../data/summer_sale_19.csv\", \"a\", newline='', encoding='utf-8') as output_file:\n",
    "    writer = csv.writer(output_file)\n",
    "\n",
    "    #loop through game ids and go to URL\n",
    "    for i in tqdm_notebook(range(9214,len(game_ids))):\n",
    "\n",
    "        time.sleep(np.random.choice([0,0,0,1,2,3,4]))\n",
    "        on_sale=0\n",
    "        discounts = []\n",
    "        \n",
    "        url = \"https://isthereanydeal.com/game/{}/history/\".format(game_ids[\"name_clean\"][i])\n",
    "        r = requests.get(url, headers={\"User-Agent\" : ua.random})\n",
    "        soup = BeautifulSoup(r.text, 'html.parser', parse_only=mask)\n",
    "\n",
    "        #if no page found, append nan\n",
    "        if soup.find(\"div\", attrs=\"widget__nodata\"):\n",
    "            discounts.append(game_ids[\"appid\"][i])\n",
    "            discounts.append(game_ids[\"name\"][i])\n",
    "            discounts.append(np.nan)\n",
    "\n",
    "        #if page found, append discount (or 0 if none)\n",
    "        else:\n",
    "            for item in soup.find_all(\"div\", attrs={\"class\": \"lg2 game\",\n",
    "                                                    \"data-shop\" : \"steam\"}):\n",
    "                if any(substring in item.span.text for substring in [\"2019-06-26\", \"2019-06-25\"]):\n",
    "                    discounts.append(game_ids[\"appid\"][i])\n",
    "                    discounts.append(game_ids[\"name\"][i])\n",
    "                    discounts.append(item.find_all(\"span\", \"lg2__cut\")[1].text)\n",
    "                    on_sale+=1\n",
    "                    break\n",
    "\n",
    "            if on_sale ==0:\n",
    "                discounts.append(game_ids[\"appid\"][i])\n",
    "                discounts.append(game_ids[\"name\"][i])\n",
    "                discounts.append(0)\n",
    "       \n",
    "        #add info to csv\n",
    "        writer.writerow(discounts)"
   ]
  },
  {
   "cell_type": "code",
   "execution_count": 4,
   "metadata": {},
   "outputs": [],
   "source": [
    "sale = pd.read_csv(\"../data/summer_sale_19.csv\")"
   ]
  },
  {
   "cell_type": "markdown",
   "metadata": {},
   "source": [
    "Initial scrape:\n",
    "\n",
    "- 11907 - on sale\n",
    "- 7269 - not on sale\n",
    "- 3403 - page not found\n"
   ]
  },
  {
   "cell_type": "markdown",
   "metadata": {},
   "source": [
    "# Second Scrape"
   ]
  },
  {
   "cell_type": "markdown",
   "metadata": {},
   "source": [
    "Looking at the games that were missed it, a further change was made to the names to better match the urls: removing all \"the\"s"
   ]
  },
  {
   "cell_type": "code",
   "execution_count": 19,
   "metadata": {},
   "outputs": [
    {
     "data": {
      "text/html": [
       "<div>\n",
       "<style scoped>\n",
       "    .dataframe tbody tr th:only-of-type {\n",
       "        vertical-align: middle;\n",
       "    }\n",
       "\n",
       "    .dataframe tbody tr th {\n",
       "        vertical-align: top;\n",
       "    }\n",
       "\n",
       "    .dataframe thead th {\n",
       "        text-align: right;\n",
       "    }\n",
       "</style>\n",
       "<table border=\"1\" class=\"dataframe\">\n",
       "  <thead>\n",
       "    <tr style=\"text-align: right;\">\n",
       "      <th></th>\n",
       "      <th>appid</th>\n",
       "      <th>name</th>\n",
       "      <th>discount</th>\n",
       "    </tr>\n",
       "  </thead>\n",
       "  <tbody>\n",
       "    <tr>\n",
       "      <th>29</th>\n",
       "      <td>1630</td>\n",
       "      <td>Disciples II: Rise of the Elves</td>\n",
       "      <td>NaN</td>\n",
       "    </tr>\n",
       "    <tr>\n",
       "      <th>36</th>\n",
       "      <td>2100</td>\n",
       "      <td>Dark Messiah of Might &amp; Magic</td>\n",
       "      <td>NaN</td>\n",
       "    </tr>\n",
       "    <tr>\n",
       "      <th>45</th>\n",
       "      <td>2330</td>\n",
       "      <td>QUAKE II Mission Pack: The Reckoning</td>\n",
       "      <td>NaN</td>\n",
       "    </tr>\n",
       "    <tr>\n",
       "      <th>48</th>\n",
       "      <td>2360</td>\n",
       "      <td>HeXen: Beyond Heretic</td>\n",
       "      <td>NaN</td>\n",
       "    </tr>\n",
       "    <tr>\n",
       "      <th>49</th>\n",
       "      <td>2370</td>\n",
       "      <td>HeXen: Deathkings of the Dark Citadel</td>\n",
       "      <td>NaN</td>\n",
       "    </tr>\n",
       "  </tbody>\n",
       "</table>\n",
       "</div>"
      ],
      "text/plain": [
       "    appid                                   name discount\n",
       "29   1630       Disciples II: Rise of the Elves       NaN\n",
       "36   2100          Dark Messiah of Might & Magic      NaN\n",
       "45   2330   QUAKE II Mission Pack: The Reckoning      NaN\n",
       "48   2360                  HeXen: Beyond Heretic      NaN\n",
       "49   2370  HeXen: Deathkings of the Dark Citadel      NaN"
      ]
     },
     "execution_count": 19,
     "metadata": {},
     "output_type": "execute_result"
    }
   ],
   "source": [
    "sale[sale[\"discount\"].isnull()==True].head()"
   ]
  },
  {
   "cell_type": "code",
   "execution_count": 31,
   "metadata": {},
   "outputs": [],
   "source": [
    "#filtering on those names that need to be retried\n",
    "sale_v2 = sale[sale[\"discount\"].isnull() == True].drop(columns=\"discount\")\n",
    "\n",
    "#reformatting as before\n",
    "sale_v2 = sale_v2.merge(game_ids[[\"appid\", \"name_clean\"]], on=\"appid\", how=\"left\")\n",
    "\n",
    "#removing all \"the\"s\n",
    "sale_v2[\"name_clean\"] = sale_v2[\"name_clean\"].str.replace(\"the\",\"\")"
   ]
  },
  {
   "cell_type": "markdown",
   "metadata": {},
   "source": [
    "Same scraper as before"
   ]
  },
  {
   "cell_type": "code",
   "execution_count": 46,
   "metadata": {},
   "outputs": [
    {
     "data": {
      "application/vnd.jupyter.widget-view+json": {
       "model_id": "fc93fc72b0f8451583a34cbc6d72c14e",
       "version_major": 2,
       "version_minor": 0
      },
      "text/plain": [
       "HBox(children=(IntProgress(value=0, max=10), HTML(value='')))"
      ]
     },
     "metadata": {},
     "output_type": "display_data"
    }
   ],
   "source": [
    "#Inital write\n",
    "ua=UserAgent()\n",
    "mask = SoupStrainer([\"div\", \"span\"])\n",
    "\n",
    "#start csv writer\n",
    "with open(\"../data/summer_sale_19_extras.csv\", \"w\", newline='', encoding='utf-8') as output_file:\n",
    "    writer = csv.writer(output_file)\n",
    "    writer.writerow([\"appid\", \"name\", \"discount\"])\n",
    "\n",
    "    #loop through game ids and go to URL\n",
    "    for i in tqdm_notebook(range(0,10)):\n",
    "\n",
    "        time.sleep(np.random.choice([0,0,0,1,2,3,4]))\n",
    "        on_sale=0\n",
    "        discounts = []\n",
    "        \n",
    "        url = \"https://isthereanydeal.com/game/{}/history/\".format(sale_v2[\"name_clean\"][i])\n",
    "        r = requests.get(url, headers={\"User-Agent\" : ua.random})\n",
    "        soup = BeautifulSoup(r.text, 'html.parser', parse_only=mask)\n",
    "\n",
    "        #if no page found, append nan\n",
    "        if soup.find(\"div\", attrs=\"widget__nodata\"):\n",
    "            discounts.append(sale_v2[\"appid\"][i])\n",
    "            discounts.append(sale_v2[\"name\"][i])\n",
    "            discounts.append(np.nan)\n",
    "\n",
    "        #if page found, append discount (or 0 if none)\n",
    "        else:\n",
    "            for item in soup.find_all(\"div\", attrs={\"class\": \"lg2 game\",\n",
    "                                                    \"data-shop\" : \"steam\"}):\n",
    "                if any(substring in item.span.text for substring in [\"2019-06-26\", \"2019-06-25\"]):\n",
    "                    discounts.append(sale_v2[\"appid\"][i])\n",
    "                    discounts.append(sale_v2[\"name\"][i])\n",
    "                    discounts.append(item.find_all(\"span\", \"lg2__cut\")[1].text)\n",
    "                    on_sale+=1\n",
    "                    break\n",
    "\n",
    "            if on_sale ==0:\n",
    "                discounts.append(sale_v2[\"appid\"][i])\n",
    "                discounts.append(sale_v2[\"name\"][i])\n",
    "                discounts.append(0)\n",
    "       \n",
    "        #add info to csv\n",
    "        writer.writerow(discounts)"
   ]
  },
  {
   "cell_type": "code",
   "execution_count": 49,
   "metadata": {},
   "outputs": [
    {
     "data": {
      "application/vnd.jupyter.widget-view+json": {
       "model_id": "6e4836e9cd1f4c569ed207856f0a2e83",
       "version_major": 2,
       "version_minor": 0
      },
      "text/plain": [
       "HBox(children=(IntProgress(value=0, max=3393), HTML(value='')))"
      ]
     },
     "metadata": {},
     "output_type": "display_data"
    }
   ],
   "source": [
    "#Subsequent appends\n",
    "ua=UserAgent()\n",
    "mask = SoupStrainer([\"div\", \"span\"])\n",
    "\n",
    "#start csv writer\n",
    "with open(\"../data/summer_sale_19_extras.csv\", \"a\", newline='', encoding='utf-8') as output_file:\n",
    "    writer = csv.writer(output_file)\n",
    "\n",
    "    #loop through game ids and go to URL\n",
    "    for i in tqdm_notebook(range(len(pd.read_csv(\"../data/summer_sale_19_extras.csv\")),len(sale_v2))):\n",
    "\n",
    "        time.sleep(np.random.choice([0,0,0,1,2,3,4]))\n",
    "        on_sale=0\n",
    "        discounts = []\n",
    "        \n",
    "        url = \"https://isthereanydeal.com/game/{}/history/\".format(sale_v2[\"name_clean\"][i])\n",
    "        r = requests.get(url, headers={\"User-Agent\" : ua.random})\n",
    "        soup = BeautifulSoup(r.text, 'html.parser', parse_only=mask)\n",
    "\n",
    "        #if no page found, append nan\n",
    "        if soup.find(\"div\", attrs=\"widget__nodata\"):\n",
    "            discounts.append(sale_v2[\"appid\"][i])\n",
    "            discounts.append(sale_v2[\"name\"][i])\n",
    "            discounts.append(np.nan)\n",
    "\n",
    "        #if page found, append discount (or 0 if none)\n",
    "        else:\n",
    "            for item in soup.find_all(\"div\", attrs={\"class\": \"lg2 game\",\n",
    "                                                    \"data-rokshop\" : \"steam\"}):\n",
    "                if any(substring in item.span.text for substring in [\"2019-06-26\", \"2019-06-25\"]):\n",
    "                    discounts.append(sale_v2[\"appid\"][i])\n",
    "                    discounts.append(sale_v2[\"name\"][i])\n",
    "                    discounts.append(item.find_all(\"span\", \"lg2__cut\")[1].text)\n",
    "                    on_sale+=1\n",
    "                    break\n",
    "\n",
    "            if on_sale ==0:\n",
    "                discounts.append(sale_v2[\"appid\"][i])\n",
    "                discounts.append(sale_v2[\"name\"][i])\n",
    "                discounts.append(0)\n",
    "       \n",
    "        #add info to csv\n",
    "        writer.writerow(discounts)"
   ]
  },
  {
   "cell_type": "markdown",
   "metadata": {},
   "source": [
    "# Combining both scrapes"
   ]
  },
  {
   "cell_type": "code",
   "execution_count": 5,
   "metadata": {},
   "outputs": [],
   "source": [
    "sale_extras = pd.read_csv(\"../data/summer_sale_19_extras.csv\")"
   ]
  },
  {
   "cell_type": "code",
   "execution_count": 11,
   "metadata": {},
   "outputs": [
    {
     "data": {
      "text/html": [
       "<div>\n",
       "<style scoped>\n",
       "    .dataframe tbody tr th:only-of-type {\n",
       "        vertical-align: middle;\n",
       "    }\n",
       "\n",
       "    .dataframe tbody tr th {\n",
       "        vertical-align: top;\n",
       "    }\n",
       "\n",
       "    .dataframe thead th {\n",
       "        text-align: right;\n",
       "    }\n",
       "</style>\n",
       "<table border=\"1\" class=\"dataframe\">\n",
       "  <thead>\n",
       "    <tr style=\"text-align: right;\">\n",
       "      <th></th>\n",
       "      <th>appid</th>\n",
       "      <th>name</th>\n",
       "      <th>discount</th>\n",
       "    </tr>\n",
       "  </thead>\n",
       "  <tbody>\n",
       "    <tr>\n",
       "      <th>29</th>\n",
       "      <td>1630</td>\n",
       "      <td>Disciples II: Rise of the Elves</td>\n",
       "      <td>NaN</td>\n",
       "    </tr>\n",
       "    <tr>\n",
       "      <th>36</th>\n",
       "      <td>2100</td>\n",
       "      <td>Dark Messiah of Might &amp; Magic</td>\n",
       "      <td>NaN</td>\n",
       "    </tr>\n",
       "    <tr>\n",
       "      <th>45</th>\n",
       "      <td>2330</td>\n",
       "      <td>QUAKE II Mission Pack: The Reckoning</td>\n",
       "      <td>NaN</td>\n",
       "    </tr>\n",
       "    <tr>\n",
       "      <th>48</th>\n",
       "      <td>2360</td>\n",
       "      <td>HeXen: Beyond Heretic</td>\n",
       "      <td>NaN</td>\n",
       "    </tr>\n",
       "    <tr>\n",
       "      <th>49</th>\n",
       "      <td>2370</td>\n",
       "      <td>HeXen: Deathkings of the Dark Citadel</td>\n",
       "      <td>NaN</td>\n",
       "    </tr>\n",
       "  </tbody>\n",
       "</table>\n",
       "</div>"
      ],
      "text/plain": [
       "    appid                                   name discount\n",
       "29   1630       Disciples II: Rise of the Elves       NaN\n",
       "36   2100          Dark Messiah of Might & Magic      NaN\n",
       "45   2330   QUAKE II Mission Pack: The Reckoning      NaN\n",
       "48   2360                  HeXen: Beyond Heretic      NaN\n",
       "49   2370  HeXen: Deathkings of the Dark Citadel      NaN"
      ]
     },
     "execution_count": 11,
     "metadata": {},
     "output_type": "execute_result"
    }
   ],
   "source": [
    "sale[sale[\"discount\"].isnull()==True].head()"
   ]
  },
  {
   "cell_type": "code",
   "execution_count": 9,
   "metadata": {},
   "outputs": [
    {
     "data": {
      "text/html": [
       "<div>\n",
       "<style scoped>\n",
       "    .dataframe tbody tr th:only-of-type {\n",
       "        vertical-align: middle;\n",
       "    }\n",
       "\n",
       "    .dataframe tbody tr th {\n",
       "        vertical-align: top;\n",
       "    }\n",
       "\n",
       "    .dataframe thead th {\n",
       "        text-align: right;\n",
       "    }\n",
       "</style>\n",
       "<table border=\"1\" class=\"dataframe\">\n",
       "  <thead>\n",
       "    <tr style=\"text-align: right;\">\n",
       "      <th></th>\n",
       "      <th>appid</th>\n",
       "      <th>name</th>\n",
       "      <th>discount</th>\n",
       "    </tr>\n",
       "  </thead>\n",
       "  <tbody>\n",
       "    <tr>\n",
       "      <th>0</th>\n",
       "      <td>1630</td>\n",
       "      <td>Disciples II: Rise of the Elves</td>\n",
       "      <td>80%</td>\n",
       "    </tr>\n",
       "    <tr>\n",
       "      <th>1</th>\n",
       "      <td>2100</td>\n",
       "      <td>Dark Messiah of Might &amp; Magic</td>\n",
       "      <td>0</td>\n",
       "    </tr>\n",
       "    <tr>\n",
       "      <th>2</th>\n",
       "      <td>2330</td>\n",
       "      <td>QUAKE II Mission Pack: The Reckoning</td>\n",
       "      <td>33%</td>\n",
       "    </tr>\n",
       "    <tr>\n",
       "      <th>3</th>\n",
       "      <td>2360</td>\n",
       "      <td>HeXen: Beyond Heretic</td>\n",
       "      <td>NaN</td>\n",
       "    </tr>\n",
       "    <tr>\n",
       "      <th>4</th>\n",
       "      <td>2370</td>\n",
       "      <td>HeXen: Deathkings of the Dark Citadel</td>\n",
       "      <td>50%</td>\n",
       "    </tr>\n",
       "  </tbody>\n",
       "</table>\n",
       "</div>"
      ],
      "text/plain": [
       "   appid                                   name discount\n",
       "0   1630       Disciples II: Rise of the Elves       80%\n",
       "1   2100          Dark Messiah of Might & Magic        0\n",
       "2   2330   QUAKE II Mission Pack: The Reckoning      33%\n",
       "3   2360                  HeXen: Beyond Heretic      NaN\n",
       "4   2370  HeXen: Deathkings of the Dark Citadel      50%"
      ]
     },
     "execution_count": 9,
     "metadata": {},
     "output_type": "execute_result"
    }
   ],
   "source": [
    "sale_extras.head()"
   ]
  },
  {
   "cell_type": "code",
   "execution_count": 35,
   "metadata": {},
   "outputs": [],
   "source": [
    "#merging the two dataframes\n",
    "sale_merged = sale.merge(sale_extras[[\"discount\", \"appid\"]], on=\"appid\", how=\"left\")\n",
    "\n",
    "#filling the initial nans with the new data\n",
    "sale_merged[\"discount_x\"].fillna(sale_merged[\"discount_y\"], inplace=True)\n",
    "\n",
    "#dropping the redundant column\n",
    "sale_merged = sale_merged.drop(columns=\"discount_y\").rename(columns={\"discount_x\" : \"discount\"})"
   ]
  },
  {
   "cell_type": "markdown",
   "metadata": {},
   "source": [
    "Updated scrape:\n",
    "\n",
    "- 13135 - on sale\n",
    "- 7917 - not on sale\n",
    "- 1527 - page not found"
   ]
  },
  {
   "cell_type": "code",
   "execution_count": 48,
   "metadata": {},
   "outputs": [],
   "source": [
    "sale_merged.to_csv(\"../data/summer_sale_19_v2.csv\", index=False)"
   ]
  }
 ],
 "metadata": {
  "kernelspec": {
   "display_name": "Python 3",
   "language": "python",
   "name": "python3"
  },
  "language_info": {
   "codemirror_mode": {
    "name": "ipython",
    "version": 3
   },
   "file_extension": ".py",
   "mimetype": "text/x-python",
   "name": "python",
   "nbconvert_exporter": "python",
   "pygments_lexer": "ipython3",
   "version": "3.7.3"
  }
 },
 "nbformat": 4,
 "nbformat_minor": 2
}
