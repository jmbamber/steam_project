{
 "cells": [
  {
   "cell_type": "markdown",
   "metadata": {},
   "source": [
    "# Steam Charts scraping"
   ]
  },
  {
   "cell_type": "code",
   "execution_count": null,
   "metadata": {},
   "outputs": [],
   "source": [
    "import pandas as pd\n",
    "import numpy as np\n",
    "from bs4 import BeautifulSoup, SoupStrainer\n",
    "import requests\n",
    "from tqdm import tqdm, tqdm_notebook\n",
    "import matplotlib.pyplot as plt\n",
    "from fake_useragent import UserAgent\n",
    "import time\n",
    "import csv\n",
    "import seaborn as sns"
   ]
  },
  {
   "cell_type": "code",
   "execution_count": 2,
   "metadata": {},
   "outputs": [],
   "source": [
    "#importing clean game ids and names\n",
    "game_ids=pd.read_csv(\"../data/steam_clean.csv\")\n",
    "game_ids = game_ids[[\"appid\", \"name\"]]"
   ]
  },
  {
   "cell_type": "markdown",
   "metadata": {},
   "source": [
    "SteamCharts was scraped for information on player numbers in May, June and July, as well as the all time peak players.\n",
    "\n",
    "Fortunately SteamCharts urls are organised with Steam's appids, so cycling through them was very straightforward"
   ]
  },
  {
   "cell_type": "code",
   "execution_count": 8,
   "metadata": {},
   "outputs": [
    {
     "data": {
      "application/vnd.jupyter.widget-view+json": {
       "model_id": "6593b6ac7b7244a5ab4fa18f9b0febf2",
       "version_major": 2,
       "version_minor": 0
      },
      "text/plain": [
       "HBox(children=(IntProgress(value=0, max=11), HTML(value='')))"
      ]
     },
     "metadata": {},
     "output_type": "display_data"
    },
    {
     "name": "stdout",
     "output_type": "stream",
     "text": [
      "\n"
     ]
    }
   ],
   "source": [
    "#initial write\n",
    "ua=UserAgent()\n",
    "mask = SoupStrainer([\"tr\", \"td\", \"div\"])\n",
    "\n",
    "#start csv writer\n",
    "with open(\"../data/steam_player_nos_v2.csv\", \"w\", newline='', encoding='utf-8') as output_file:\n",
    "    writer = csv.writer(output_file)\n",
    "    writer.writerow([\"appid\", \"name\", \"all_time_peak\", \n",
    "                     \"jul_19_av\", \"jul_19_peak\", \n",
    "                     \"jun_19_av\", \"jun_19_peak\",\n",
    "                     \"may_19_av\", \"may_19_peak\"])\n",
    "    \n",
    "    for i in tqdm_notebook(range(0,11)):\n",
    "        \n",
    "        #create empty list for player number info\n",
    "        players=[]\n",
    "\n",
    "        #cycle through ids and add that into the url \n",
    "        url = \"https://steamcharts.com/app/{}\".format(game_ids[\"appid\"][i])\n",
    "        r = requests.get(url, headers={\"User-Agent\" : ua.random})\n",
    "        soup = BeautifulSoup(r.text, 'html.parser', parse_only=mask)\n",
    "        \n",
    "        #find and append the all time peak players stat\n",
    "        for item in soup.find_all(\"div\", attrs=\"app-stat\"):\n",
    "            if \"all-time\" in item.text:          \n",
    "                players.append(game_ids[\"appid\"][i])\n",
    "                players.append(game_ids[\"name\"][i])\n",
    "                players.append(item.span.text)\n",
    "\n",
    "                \n",
    "        #find the peak and average for each month and append\n",
    "        for item in soup.find_all(\"tr\"):\n",
    "            if (item.find(\"td\", attrs=\"month-cell left\") != None \n",
    "                            and item.find(\"td\", attrs=\"month-cell left\").text.strip() == \"May 2019\"):\n",
    "                players.append(item.find(\"td\", attrs =\"right num-f\").text)\n",
    "                players.append(item.find(\"td\", attrs =\"right num\").text)\n",
    "            if (item.find(\"td\", attrs=\"month-cell left\") != None \n",
    "                            and item.find(\"td\", attrs=\"month-cell left\").text.strip() == \"June 2019\"):\n",
    "                players.append(item.find(\"td\", attrs =\"right num-f\").text)\n",
    "                players.append(item.find(\"td\", attrs =\"right num\").text)\n",
    "            if (item.find(\"td\", attrs=\"month-cell left\") != None \n",
    "                            and item.find(\"td\", attrs=\"month-cell left\").text.strip() == \"July 2019\"):\n",
    "                players.append(item.find(\"td\", attrs =\"right num-f\").text)\n",
    "                players.append(item.find(\"td\", attrs =\"right num\").text)\n",
    "                \n",
    "        #add info to csv\n",
    "        writer.writerow(players)\n",
    "\n",
    "        \n",
    "        #if nothing found append nans\n",
    "        if len(players) == 0: \n",
    "            writer.writerow([game_ids[\"appid\"][i], game_ids[\"name\"][i], \n",
    "                             np.nan, np.nan, np.nan, np.nan, np.nan, np.nan, np.nan])"
   ]
  },
  {
   "cell_type": "code",
   "execution_count": 13,
   "metadata": {},
   "outputs": [
    {
     "data": {
      "application/vnd.jupyter.widget-view+json": {
       "model_id": "9975b3cf29f845cab64616691a417efe",
       "version_major": 2,
       "version_minor": 0
      },
      "text/plain": [
       "HBox(children=(IntProgress(value=1, bar_style='info', max=1), HTML(value='')))"
      ]
     },
     "metadata": {},
     "output_type": "display_data"
    },
    {
     "name": "stdout",
     "output_type": "stream",
     "text": [
      "\n"
     ]
    }
   ],
   "source": [
    "#subsequent write\n",
    "ua=UserAgent()\n",
    "mask = SoupStrainer([\"tr\", \"td\", \"div\"])\n",
    "\n",
    "#start csv writer\n",
    "with open(\"../data/steam_player_nos_v2.csv\", \"a\", newline='', encoding='utf-8') as output_file:\n",
    "    writer = csv.writer(output_file)\n",
    "    \n",
    "    for i in tqdm_notebook(range(len(pd.read_csv(\"../data/steam_player_nos_v2.csv\")),len(game_ids))):\n",
    "        \n",
    "        players=[]\n",
    "\n",
    "        url = \"https://steamcharts.com/app/{}\".format(game_ids[\"appid\"][i])\n",
    "        r = requests.get(url, headers={\"User-Agent\" : ua.random})\n",
    "        soup = BeautifulSoup(r.text, 'html.parser', parse_only=mask)\n",
    "        \n",
    "        for item in soup.find_all(\"div\", attrs=\"app-stat\"):\n",
    "            if \"all-time\" in item.text:          \n",
    "                players.append(game_ids[\"appid\"][i])\n",
    "                players.append(game_ids[\"name\"][i])\n",
    "                players.append(item.span.text)\n",
    "\n",
    "        for item in soup.find_all(\"tr\"):\n",
    "            if (item.find(\"td\", attrs=\"month-cell left\") != None \n",
    "                            and item.find(\"td\", attrs=\"month-cell left\").text.strip() == \"May 2019\"):\n",
    "                players.append(item.find(\"td\", attrs =\"right num-f\").text)\n",
    "                players.append(item.find(\"td\", attrs =\"right num\").text)\n",
    "            if (item.find(\"td\", attrs=\"month-cell left\") != None \n",
    "                            and item.find(\"td\", attrs=\"month-cell left\").text.strip() == \"June 2019\"):\n",
    "                players.append(item.find(\"td\", attrs =\"right num-f\").text)\n",
    "                players.append(item.find(\"td\", attrs =\"right num\").text)\n",
    "            if (item.find(\"td\", attrs=\"month-cell left\") != None \n",
    "                            and item.find(\"td\", attrs=\"month-cell left\").text.strip() == \"July 2019\"):\n",
    "                players.append(item.find(\"td\", attrs =\"right num-f\").text)\n",
    "                players.append(item.find(\"td\", attrs =\"right num\").text)\n",
    "                \n",
    "        #add info to csv\n",
    "        writer.writerow(players)\n",
    "\n",
    "        \n",
    "        if len(players) == 0: \n",
    "            writer.writerow([game_ids[\"appid\"][i], game_ids[\"name\"][i], \n",
    "                             np.nan, np.nan, np.nan, np.nan, np.nan, np.nan, np.nan])"
   ]
  },
  {
   "cell_type": "code",
   "execution_count": 14,
   "metadata": {},
   "outputs": [
    {
     "data": {
      "text/html": [
       "<div>\n",
       "<style scoped>\n",
       "    .dataframe tbody tr th:only-of-type {\n",
       "        vertical-align: middle;\n",
       "    }\n",
       "\n",
       "    .dataframe tbody tr th {\n",
       "        vertical-align: top;\n",
       "    }\n",
       "\n",
       "    .dataframe thead th {\n",
       "        text-align: right;\n",
       "    }\n",
       "</style>\n",
       "<table border=\"1\" class=\"dataframe\">\n",
       "  <thead>\n",
       "    <tr style=\"text-align: right;\">\n",
       "      <th></th>\n",
       "      <th>appid</th>\n",
       "      <th>name</th>\n",
       "      <th>all_time_peak</th>\n",
       "      <th>jul_19_av</th>\n",
       "      <th>jul_19_peak</th>\n",
       "      <th>jun_19_av</th>\n",
       "      <th>jun_19_peak</th>\n",
       "      <th>may_19_av</th>\n",
       "      <th>may_19_peak</th>\n",
       "    </tr>\n",
       "  </thead>\n",
       "  <tbody>\n",
       "    <tr>\n",
       "      <th>22574</th>\n",
       "      <td>998890</td>\n",
       "      <td>The Colony</td>\n",
       "      <td>1.0</td>\n",
       "      <td>NaN</td>\n",
       "      <td>NaN</td>\n",
       "      <td>NaN</td>\n",
       "      <td>NaN</td>\n",
       "      <td>NaN</td>\n",
       "      <td>NaN</td>\n",
       "    </tr>\n",
       "    <tr>\n",
       "      <th>22575</th>\n",
       "      <td>999750</td>\n",
       "      <td>BLASTER LiLO</td>\n",
       "      <td>1.0</td>\n",
       "      <td>NaN</td>\n",
       "      <td>NaN</td>\n",
       "      <td>NaN</td>\n",
       "      <td>NaN</td>\n",
       "      <td>NaN</td>\n",
       "      <td>NaN</td>\n",
       "    </tr>\n",
       "    <tr>\n",
       "      <th>22576</th>\n",
       "      <td>1001490</td>\n",
       "      <td>Tower Behind the Moon</td>\n",
       "      <td>18.0</td>\n",
       "      <td>0.15</td>\n",
       "      <td>2.0</td>\n",
       "      <td>0.22</td>\n",
       "      <td>2.0</td>\n",
       "      <td>0.36</td>\n",
       "      <td>3.0</td>\n",
       "    </tr>\n",
       "    <tr>\n",
       "      <th>22577</th>\n",
       "      <td>1001880</td>\n",
       "      <td>aMAZE Valentine</td>\n",
       "      <td>2.0</td>\n",
       "      <td>0.01</td>\n",
       "      <td>1.0</td>\n",
       "      <td>0.02</td>\n",
       "      <td>1.0</td>\n",
       "      <td>0.04</td>\n",
       "      <td>1.0</td>\n",
       "    </tr>\n",
       "    <tr>\n",
       "      <th>22578</th>\n",
       "      <td>1002490</td>\n",
       "      <td>Roulette Simulator 2</td>\n",
       "      <td>2.0</td>\n",
       "      <td>0.02</td>\n",
       "      <td>1.0</td>\n",
       "      <td>0.02</td>\n",
       "      <td>1.0</td>\n",
       "      <td>0.02</td>\n",
       "      <td>1.0</td>\n",
       "    </tr>\n",
       "  </tbody>\n",
       "</table>\n",
       "</div>"
      ],
      "text/plain": [
       "         appid                   name  all_time_peak  jul_19_av  jul_19_peak  \\\n",
       "22574   998890             The Colony            1.0        NaN          NaN   \n",
       "22575   999750           BLASTER LiLO            1.0        NaN          NaN   \n",
       "22576  1001490  Tower Behind the Moon           18.0       0.15          2.0   \n",
       "22577  1001880        aMAZE Valentine            2.0       0.01          1.0   \n",
       "22578  1002490   Roulette Simulator 2            2.0       0.02          1.0   \n",
       "\n",
       "       jun_19_av  jun_19_peak  may_19_av  may_19_peak  \n",
       "22574        NaN          NaN        NaN          NaN  \n",
       "22575        NaN          NaN        NaN          NaN  \n",
       "22576       0.22          2.0       0.36          3.0  \n",
       "22577       0.02          1.0       0.04          1.0  \n",
       "22578       0.02          1.0       0.02          1.0  "
      ]
     },
     "execution_count": 14,
     "metadata": {},
     "output_type": "execute_result"
    }
   ],
   "source": [
    "#checking what we got\n",
    "pd.read_csv(\"../data/steam_player_nos_v2.csv\").tail()"
   ]
  }
 ],
 "metadata": {
  "kernelspec": {
   "display_name": "Python 3",
   "language": "python",
   "name": "python3"
  },
  "language_info": {
   "codemirror_mode": {
    "name": "ipython",
    "version": 3
   },
   "file_extension": ".py",
   "mimetype": "text/x-python",
   "name": "python",
   "nbconvert_exporter": "python",
   "pygments_lexer": "ipython3",
   "version": "3.7.3"
  }
 },
 "nbformat": 4,
 "nbformat_minor": 2
}
