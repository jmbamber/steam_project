{
 "cells": [
  {
   "cell_type": "code",
   "execution_count": 2,
   "metadata": {},
   "outputs": [],
   "source": [
    "import pandas as pd\n",
    "import numpy as np\n",
    "import matplotlib.pyplot as plt\n",
    "import seaborn as sns\n",
    "import datetime\n",
    "from collections import defaultdict\n",
    "from my_functions import regular_comp"
   ]
  },
  {
   "cell_type": "markdown",
   "metadata": {},
   "source": [
    "# Combining datasets"
   ]
  },
  {
   "cell_type": "markdown",
   "metadata": {},
   "source": [
    "I kept the Steam appids in all my datasets to ensure I had easy way to combine them together"
   ]
  },
  {
   "cell_type": "code",
   "execution_count": 39,
   "metadata": {},
   "outputs": [],
   "source": [
    "#importing seperate datasets\n",
    "games = pd.read_csv(\"../data/steam_clean.csv\")\n",
    "discounts = pd.read_csv(\"../data/summer_sale_19_v2.csv\")\n",
    "players = pd.read_csv(\"../data/steam_player_nos_v2.csv\")"
   ]
  },
  {
   "cell_type": "code",
   "execution_count": 40,
   "metadata": {},
   "outputs": [
    {
     "name": "stdout",
     "output_type": "stream",
     "text": [
      "(22579, 18)\n",
      "(22579, 3)\n",
      "(22579, 9)\n"
     ]
    }
   ],
   "source": [
    "#checking sizes before and after dropping nans\n",
    "print(games.shape)\n",
    "print(discounts.shape)\n",
    "print(players.shape)"
   ]
  },
  {
   "cell_type": "code",
   "execution_count": 41,
   "metadata": {},
   "outputs": [
    {
     "name": "stdout",
     "output_type": "stream",
     "text": [
      "(22579, 18)\n",
      "(21052, 3)\n",
      "(14536, 9)\n"
     ]
    }
   ],
   "source": [
    "print(games.dropna().shape)\n",
    "print(discounts.dropna().shape)\n",
    "print(players.dropna().shape)"
   ]
  },
  {
   "cell_type": "code",
   "execution_count": 42,
   "metadata": {},
   "outputs": [
    {
     "data": {
      "text/plain": [
       "(22579, 26)"
      ]
     },
     "execution_count": 42,
     "metadata": {},
     "output_type": "execute_result"
    }
   ],
   "source": [
    "#combining them together\n",
    "steam_df = games.merge(discounts, on=[\"appid\", \"name\"])\n",
    "steam_df = steam_df.merge(players, on=[\"appid\", \"name\"])\n",
    "steam_df.shape"
   ]
  },
  {
   "cell_type": "code",
   "execution_count": 43,
   "metadata": {},
   "outputs": [
    {
     "name": "stdout",
     "output_type": "stream",
     "text": [
      "<class 'pandas.core.frame.DataFrame'>\n",
      "Int64Index: 22579 entries, 0 to 22578\n",
      "Data columns (total 26 columns):\n",
      "appid               22579 non-null int64\n",
      "name                22579 non-null object\n",
      "release_date        22579 non-null object\n",
      "english             22579 non-null int64\n",
      "developer           22579 non-null object\n",
      "publisher           22579 non-null object\n",
      "platforms           22579 non-null object\n",
      "required_age        22579 non-null int64\n",
      "categories          22579 non-null object\n",
      "genres              22579 non-null object\n",
      "steamspy_tags       22579 non-null object\n",
      "achievements        22579 non-null int64\n",
      "positive_ratings    22579 non-null int64\n",
      "negative_ratings    22579 non-null int64\n",
      "average_playtime    22579 non-null int64\n",
      "median_playtime     22579 non-null int64\n",
      "owners              22579 non-null object\n",
      "price               22579 non-null float64\n",
      "discount            21052 non-null object\n",
      "all_time_peak       20096 non-null float64\n",
      "jul_19_av           17973 non-null float64\n",
      "jul_19_peak         17973 non-null float64\n",
      "jun_19_av           16328 non-null float64\n",
      "jun_19_peak         16328 non-null float64\n",
      "may_19_av           14536 non-null float64\n",
      "may_19_peak         14536 non-null float64\n",
      "dtypes: float64(8), int64(8), object(10)\n",
      "memory usage: 4.7+ MB\n"
     ]
    }
   ],
   "source": [
    "steam_df.info()"
   ]
  },
  {
   "cell_type": "code",
   "execution_count": 44,
   "metadata": {},
   "outputs": [
    {
     "data": {
      "text/html": [
       "<div>\n",
       "<style scoped>\n",
       "    .dataframe tbody tr th:only-of-type {\n",
       "        vertical-align: middle;\n",
       "    }\n",
       "\n",
       "    .dataframe tbody tr th {\n",
       "        vertical-align: top;\n",
       "    }\n",
       "\n",
       "    .dataframe thead th {\n",
       "        text-align: right;\n",
       "    }\n",
       "</style>\n",
       "<table border=\"1\" class=\"dataframe\">\n",
       "  <thead>\n",
       "    <tr style=\"text-align: right;\">\n",
       "      <th></th>\n",
       "      <th>appid</th>\n",
       "      <th>name</th>\n",
       "      <th>release_date</th>\n",
       "      <th>english</th>\n",
       "      <th>developer</th>\n",
       "      <th>publisher</th>\n",
       "      <th>platforms</th>\n",
       "      <th>required_age</th>\n",
       "      <th>categories</th>\n",
       "      <th>genres</th>\n",
       "      <th>...</th>\n",
       "      <th>owners</th>\n",
       "      <th>price</th>\n",
       "      <th>discount</th>\n",
       "      <th>all_time_peak</th>\n",
       "      <th>jul_19_av</th>\n",
       "      <th>jul_19_peak</th>\n",
       "      <th>jun_19_av</th>\n",
       "      <th>jun_19_peak</th>\n",
       "      <th>may_19_av</th>\n",
       "      <th>may_19_peak</th>\n",
       "    </tr>\n",
       "  </thead>\n",
       "  <tbody>\n",
       "    <tr>\n",
       "      <th>0</th>\n",
       "      <td>10</td>\n",
       "      <td>Counter-Strike</td>\n",
       "      <td>2000-11-01</td>\n",
       "      <td>1</td>\n",
       "      <td>Valve</td>\n",
       "      <td>Valve</td>\n",
       "      <td>windows;mac;linux</td>\n",
       "      <td>0</td>\n",
       "      <td>Multi-player;Online Multi-Player;Local Multi-P...</td>\n",
       "      <td>Action</td>\n",
       "      <td>...</td>\n",
       "      <td>10000000-20000000</td>\n",
       "      <td>7.19</td>\n",
       "      <td>0</td>\n",
       "      <td>65188.0</td>\n",
       "      <td>9317.42</td>\n",
       "      <td>15309.0</td>\n",
       "      <td>9165.61</td>\n",
       "      <td>14925.0</td>\n",
       "      <td>9246.58</td>\n",
       "      <td>16503.0</td>\n",
       "    </tr>\n",
       "    <tr>\n",
       "      <th>1</th>\n",
       "      <td>20</td>\n",
       "      <td>Team Fortress Classic</td>\n",
       "      <td>1999-04-01</td>\n",
       "      <td>1</td>\n",
       "      <td>Valve</td>\n",
       "      <td>Valve</td>\n",
       "      <td>windows;mac;linux</td>\n",
       "      <td>0</td>\n",
       "      <td>Multi-player;Online Multi-Player;Local Multi-P...</td>\n",
       "      <td>Action</td>\n",
       "      <td>...</td>\n",
       "      <td>5000000-10000000</td>\n",
       "      <td>3.99</td>\n",
       "      <td>90%</td>\n",
       "      <td>191.0</td>\n",
       "      <td>68.37</td>\n",
       "      <td>144.0</td>\n",
       "      <td>64.79</td>\n",
       "      <td>130.0</td>\n",
       "      <td>58.06</td>\n",
       "      <td>142.0</td>\n",
       "    </tr>\n",
       "    <tr>\n",
       "      <th>2</th>\n",
       "      <td>30</td>\n",
       "      <td>Day of Defeat</td>\n",
       "      <td>2003-05-01</td>\n",
       "      <td>1</td>\n",
       "      <td>Valve</td>\n",
       "      <td>Valve</td>\n",
       "      <td>windows;mac;linux</td>\n",
       "      <td>0</td>\n",
       "      <td>Multi-player;Valve Anti-Cheat enabled</td>\n",
       "      <td>Action</td>\n",
       "      <td>...</td>\n",
       "      <td>5000000-10000000</td>\n",
       "      <td>3.99</td>\n",
       "      <td>90%</td>\n",
       "      <td>654.0</td>\n",
       "      <td>99.35</td>\n",
       "      <td>157.0</td>\n",
       "      <td>99.19</td>\n",
       "      <td>188.0</td>\n",
       "      <td>92.56</td>\n",
       "      <td>193.0</td>\n",
       "    </tr>\n",
       "    <tr>\n",
       "      <th>3</th>\n",
       "      <td>40</td>\n",
       "      <td>Deathmatch Classic</td>\n",
       "      <td>2001-06-01</td>\n",
       "      <td>1</td>\n",
       "      <td>Valve</td>\n",
       "      <td>Valve</td>\n",
       "      <td>windows;mac;linux</td>\n",
       "      <td>0</td>\n",
       "      <td>Multi-player;Online Multi-Player;Local Multi-P...</td>\n",
       "      <td>Action</td>\n",
       "      <td>...</td>\n",
       "      <td>5000000-10000000</td>\n",
       "      <td>3.99</td>\n",
       "      <td>90%</td>\n",
       "      <td>627.0</td>\n",
       "      <td>8.55</td>\n",
       "      <td>25.0</td>\n",
       "      <td>6.47</td>\n",
       "      <td>20.0</td>\n",
       "      <td>5.88</td>\n",
       "      <td>48.0</td>\n",
       "    </tr>\n",
       "    <tr>\n",
       "      <th>4</th>\n",
       "      <td>50</td>\n",
       "      <td>Half-Life: Opposing Force</td>\n",
       "      <td>1999-11-01</td>\n",
       "      <td>1</td>\n",
       "      <td>Gearbox Software</td>\n",
       "      <td>Valve</td>\n",
       "      <td>windows;mac;linux</td>\n",
       "      <td>0</td>\n",
       "      <td>Single-player;Multi-player;Valve Anti-Cheat en...</td>\n",
       "      <td>Action</td>\n",
       "      <td>...</td>\n",
       "      <td>5000000-10000000</td>\n",
       "      <td>3.99</td>\n",
       "      <td>0</td>\n",
       "      <td>237.0</td>\n",
       "      <td>112.87</td>\n",
       "      <td>230.0</td>\n",
       "      <td>73.91</td>\n",
       "      <td>217.0</td>\n",
       "      <td>52.45</td>\n",
       "      <td>129.0</td>\n",
       "    </tr>\n",
       "  </tbody>\n",
       "</table>\n",
       "<p>5 rows × 26 columns</p>\n",
       "</div>"
      ],
      "text/plain": [
       "   appid                       name release_date  english         developer  \\\n",
       "0     10             Counter-Strike   2000-11-01        1             Valve   \n",
       "1     20      Team Fortress Classic   1999-04-01        1             Valve   \n",
       "2     30              Day of Defeat   2003-05-01        1             Valve   \n",
       "3     40         Deathmatch Classic   2001-06-01        1             Valve   \n",
       "4     50  Half-Life: Opposing Force   1999-11-01        1  Gearbox Software   \n",
       "\n",
       "  publisher          platforms  required_age  \\\n",
       "0     Valve  windows;mac;linux             0   \n",
       "1     Valve  windows;mac;linux             0   \n",
       "2     Valve  windows;mac;linux             0   \n",
       "3     Valve  windows;mac;linux             0   \n",
       "4     Valve  windows;mac;linux             0   \n",
       "\n",
       "                                          categories  genres  ...  \\\n",
       "0  Multi-player;Online Multi-Player;Local Multi-P...  Action  ...   \n",
       "1  Multi-player;Online Multi-Player;Local Multi-P...  Action  ...   \n",
       "2              Multi-player;Valve Anti-Cheat enabled  Action  ...   \n",
       "3  Multi-player;Online Multi-Player;Local Multi-P...  Action  ...   \n",
       "4  Single-player;Multi-player;Valve Anti-Cheat en...  Action  ...   \n",
       "\n",
       "              owners  price  discount  all_time_peak  jul_19_av  jul_19_peak  \\\n",
       "0  10000000-20000000   7.19         0        65188.0    9317.42      15309.0   \n",
       "1   5000000-10000000   3.99       90%          191.0      68.37        144.0   \n",
       "2   5000000-10000000   3.99       90%          654.0      99.35        157.0   \n",
       "3   5000000-10000000   3.99       90%          627.0       8.55         25.0   \n",
       "4   5000000-10000000   3.99         0          237.0     112.87        230.0   \n",
       "\n",
       "  jun_19_av  jun_19_peak may_19_av  may_19_peak  \n",
       "0   9165.61      14925.0   9246.58      16503.0  \n",
       "1     64.79        130.0     58.06        142.0  \n",
       "2     99.19        188.0     92.56        193.0  \n",
       "3      6.47         20.0      5.88         48.0  \n",
       "4     73.91        217.0     52.45        129.0  \n",
       "\n",
       "[5 rows x 26 columns]"
      ]
     },
     "execution_count": 44,
     "metadata": {},
     "output_type": "execute_result"
    }
   ],
   "source": [
    "steam_df.head()"
   ]
  },
  {
   "cell_type": "code",
   "execution_count": 33,
   "metadata": {},
   "outputs": [
    {
     "data": {
      "text/plain": [
       "(13581, 45)"
      ]
     },
     "execution_count": 33,
     "metadata": {},
     "output_type": "execute_result"
    }
   ],
   "source": [
    "#Various column engineerings:\n",
    "\n",
    "#Dopping all nans (i.e. where I couln't find sale info or player counts)\n",
    "steam_df = steam_df.dropna()\n",
    "steam_df.reset_index(inplace=True)\n",
    "\n",
    "#converting the discount to a float, and creating a binary variable\n",
    "steam_df[\"discount\"] = steam_df[\"discount\"].map(lambda x: float(x.replace(\"%\", \"\") if x !=0 else x))\n",
    "steam_df[\"discount_bin\"] = steam_df[\"discount\"].map(lambda x: 1 if x > 0 else 0)\n",
    "\n",
    "#Converting the age to a string as it's categorical\n",
    "steam_df[\"required_age\"]=steam_df[\"required_age\"].map(lambda x: str(x))\n",
    "\n",
    "#Changing release date to datetime\n",
    "steam_df[\"release_date\"] = pd.to_datetime(steam_df[\"release_date\"])\n",
    "\n",
    "#Changing achievements to a yes/no category\n",
    "steam_df[\"achievements\"] = steam_df[\"achievements\"].map(lambda x: 1 if x > 0 else 0)\n",
    "\n",
    "#Removing SteamSpy conjecture\n",
    "steam_df.drop(columns=[\"average_playtime\", \"median_playtime\", \"owners\"], inplace=True)\n",
    "\n",
    "#Steamspy tags preovide no extra info that the cats/genres columns don't already provide\n",
    "steam_df.drop(columns=\"steamspy_tags\", inplace=True)\n",
    "\n",
    "#Getting percentage of positive reviews, and total number of reviews\n",
    "steam_df[\"ratingpc\"] = steam_df[\"positive_ratings\"]/(steam_df[\"positive_ratings\"]+steam_df[\"negative_ratings\"])\n",
    "steam_df[\"total_ratings\"]=steam_df[\"negative_ratings\"]+steam_df[\"positive_ratings\"]\n",
    "steam_df.drop(columns=[\"positive_ratings\", \"negative_ratings\"], inplace=True)\n",
    "\n",
    "\n",
    "#Creating platform categories\n",
    "steam_df[\"windows\"] = steam_df[\"platforms\"].map(lambda x: 1 if \"windows\" in x else 0)\n",
    "steam_df[\"linux\"] = steam_df[\"platforms\"].map(lambda x: 1 if \"linux\" in x else 0)\n",
    "steam_df[\"mac\"] = steam_df[\"platforms\"].map(lambda x: 1 if \"mac\" in x else 0)\n",
    "\n",
    "steam_df.drop(columns=\"platforms\", inplace=True)\n",
    "\n",
    "#Creating categories of Categories and Genres\n",
    "categories = {\"appid\" : []}\n",
    "\n",
    "#creating a dictionary key for each category\n",
    "for cell in steam_df[\"categories\"]:\n",
    "    for cat in cell.split(\";\"):\n",
    "        categories[\"cat_\" + cat]=[]\n",
    "\n",
    "#for each game, check if a game has it and append a 1 or 0 to the dictionary key accordingly\n",
    "for i in range(0, len(steam_df)):\n",
    "    categories[\"appid\"].append(steam_df[\"appid\"][i])\n",
    "    for cat in [key for key in categories.keys() if key != \"appid\"]:\n",
    "        if (cat[4:]) in steam_df[\"categories\"][i]:\n",
    "            categories[cat].append(1)\n",
    "        else:\n",
    "            categories[cat].append(0)\n",
    "            \n",
    "#do the same for genres            \n",
    "genres = {\"appid\" : []}\n",
    "\n",
    "for cell in steam_df[\"genres\"]:\n",
    "    for gen in cell.split(\";\"):\n",
    "        genres[\"gen_\" + gen]=[]\n",
    "\n",
    "for i in range(0, len(steam_df)):\n",
    "    genres[\"appid\"].append(steam_df[\"appid\"][i])\n",
    "    for gen in [key for key in genres.keys() if key != \"appid\"]:\n",
    "        if (gen[4:]) in steam_df[\"genres\"][i]:\n",
    "            genres[gen].append(1)\n",
    "        else:\n",
    "            genres[gen].append(0)\n",
    "            \n",
    "#add them into the dataframe\n",
    "steam_df = steam_df.merge(pd.DataFrame(categories), on=\"appid\")\n",
    "steam_df = steam_df.merge(pd.DataFrame(genres), on=\"appid\")\n",
    "\n",
    "steam_df.drop(columns =[\"categories\", \"genres\"], inplace=True)\n",
    "\n",
    "#dropping the categories and genres that are too small\n",
    "for col in steam_df.columns:\n",
    "    if steam_df[col].dtype == \"int64\":\n",
    "        if steam_df[col].sum() < 700:\n",
    "             steam_df.drop(columns=col, inplace=True)\n",
    "\n",
    "\n",
    "steam_df.shape"
   ]
  },
  {
   "cell_type": "code",
   "execution_count": 34,
   "metadata": {},
   "outputs": [],
   "source": [
    "#Computing potential target columns\n",
    "\n",
    "#uplift between jul and jun averages, both absolute and realative\n",
    "steam_df[\"jun_jul_avuplift\"] = steam_df[\"jul_19_av\"]-steam_df[\"jun_19_av\"]\n",
    "steam_df[\"jun_jul_avupliftpc\"] = steam_df[\"jun_jul_avuplift\"]/steam_df[\"jun_19_av\"]\n",
    "\n",
    "#same for may - jun as this may be a useful variable\n",
    "steam_df[\"may_jun_avuplift\"] = steam_df[\"jun_19_av\"]-steam_df[\"may_19_av\"]\n",
    "steam_df[\"may_jun_avupliftpc\"] = steam_df[\"may_jun_avuplift\"]/steam_df[\"may_19_av\"]\n",
    "steam_df[\"any_jun_uplift\"] = steam_df[\"may_jun_avuplift\"].map(lambda x: 1 if x>0 else 0)\n",
    "\n",
    "#dropping jul peak column\n",
    "steam_df.drop(columns=[\"jul_19_peak\"], inplace=True)\n"
   ]
  },
  {
   "cell_type": "code",
   "execution_count": 35,
   "metadata": {},
   "outputs": [
    {
     "data": {
      "text/plain": [
       "Index(['index', 'appid', 'name', 'release_date', 'english', 'developer',\n",
       "       'publisher', 'required_age', 'achievements', 'price', 'discount',\n",
       "       'all_time_peak', 'jul_19_av', 'jun_19_av', 'jun_19_peak', 'may_19_av',\n",
       "       'may_19_peak', 'discount_bin', 'ratingpc', 'total_ratings', 'windows',\n",
       "       'linux', 'mac', 'cat_Multi-player', 'cat_Online Multi-Player',\n",
       "       'cat_Local Multi-Player', 'cat_Single-player', 'cat_Steam Cloud',\n",
       "       'cat_Steam Achievements', 'cat_Steam Trading Cards',\n",
       "       'cat_Partial Controller Support', 'cat_Stats', 'cat_Co-op',\n",
       "       'cat_Full controller support', 'cat_Steam Leaderboards',\n",
       "       'cat_Shared/Split Screen', 'gen_Action', 'gen_Adventure', 'gen_Indie',\n",
       "       'gen_Strategy', 'gen_RPG', 'gen_Simulation', 'gen_Casual',\n",
       "       'gen_Early Access', 'jun_jul_avuplift', 'jun_jul_avupliftpc',\n",
       "       'may_jun_avuplift', 'may_jun_avupliftpc', 'any_jun_uplift'],\n",
       "      dtype='object')"
      ]
     },
     "execution_count": 35,
     "metadata": {},
     "output_type": "execute_result"
    }
   ],
   "source": [
    "steam_df.columns"
   ]
  },
  {
   "cell_type": "code",
   "execution_count": 36,
   "metadata": {},
   "outputs": [],
   "source": [
    "#reordering columns\n",
    "steam_df = steam_df[['index', 'appid', 'name', 'release_date', 'english', 'developer',\n",
    "       'publisher', 'required_age', 'achievements', 'total_ratings', 'ratingpc', 'price', \n",
    "       'discount', 'discount_bin', 'windows', 'linux', 'mac', 'cat_Multi-player',\n",
    "       'cat_Online Multi-Player', 'cat_Single-player', 'cat_Steam Cloud',\n",
    "       'cat_Steam Achievements', 'cat_Steam Trading Cards',\n",
    "       'cat_Partial Controller Support', 'cat_Stats', 'cat_Co-op',\n",
    "       'cat_Full controller support', 'cat_Steam Leaderboards',\n",
    "       'cat_Shared/Split Screen', 'gen_Action', 'gen_Adventure', 'gen_Indie',\n",
    "       'gen_Strategy', 'gen_RPG', 'gen_Simulation', 'gen_Casual',\n",
    "       'gen_Early Access', 'all_time_peak', 'may_19_av', 'may_19_peak', 'jun_19_av', \n",
    "       'jun_19_peak', 'jul_19_av', 'may_jun_avuplift', 'may_jun_avupliftpc',\n",
    "       'jun_jul_avuplift', 'jun_jul_avupliftpc']]"
   ]
  },
  {
   "cell_type": "code",
   "execution_count": 37,
   "metadata": {},
   "outputs": [
    {
     "name": "stdout",
     "output_type": "stream",
     "text": [
      "<class 'pandas.core.frame.DataFrame'>\n",
      "Int64Index: 13581 entries, 0 to 13580\n",
      "Data columns (total 47 columns):\n",
      "index                             13581 non-null int64\n",
      "appid                             13581 non-null int64\n",
      "name                              13581 non-null object\n",
      "release_date                      13581 non-null datetime64[ns]\n",
      "english                           13581 non-null int64\n",
      "developer                         13581 non-null object\n",
      "publisher                         13581 non-null object\n",
      "required_age                      13581 non-null object\n",
      "achievements                      13581 non-null int64\n",
      "total_ratings                     13581 non-null int64\n",
      "ratingpc                          13581 non-null float64\n",
      "price                             13581 non-null float64\n",
      "discount                          13581 non-null float64\n",
      "discount_bin                      13581 non-null int64\n",
      "windows                           13581 non-null int64\n",
      "linux                             13581 non-null int64\n",
      "mac                               13581 non-null int64\n",
      "cat_Multi-player                  13581 non-null int64\n",
      "cat_Online Multi-Player           13581 non-null int64\n",
      "cat_Single-player                 13581 non-null int64\n",
      "cat_Steam Cloud                   13581 non-null int64\n",
      "cat_Steam Achievements            13581 non-null int64\n",
      "cat_Steam Trading Cards           13581 non-null int64\n",
      "cat_Partial Controller Support    13581 non-null int64\n",
      "cat_Stats                         13581 non-null int64\n",
      "cat_Co-op                         13581 non-null int64\n",
      "cat_Full controller support       13581 non-null int64\n",
      "cat_Steam Leaderboards            13581 non-null int64\n",
      "cat_Shared/Split Screen           13581 non-null int64\n",
      "gen_Action                        13581 non-null int64\n",
      "gen_Adventure                     13581 non-null int64\n",
      "gen_Indie                         13581 non-null int64\n",
      "gen_Strategy                      13581 non-null int64\n",
      "gen_RPG                           13581 non-null int64\n",
      "gen_Simulation                    13581 non-null int64\n",
      "gen_Casual                        13581 non-null int64\n",
      "gen_Early Access                  13581 non-null int64\n",
      "all_time_peak                     13581 non-null float64\n",
      "may_19_av                         13581 non-null float64\n",
      "may_19_peak                       13581 non-null float64\n",
      "jun_19_av                         13581 non-null float64\n",
      "jun_19_peak                       13581 non-null float64\n",
      "jul_19_av                         13581 non-null float64\n",
      "may_jun_avuplift                  13581 non-null float64\n",
      "may_jun_avupliftpc                13581 non-null float64\n",
      "jun_jul_avuplift                  13581 non-null float64\n",
      "jun_jul_avupliftpc                13581 non-null float64\n",
      "dtypes: datetime64[ns](1), float64(13), int64(29), object(4)\n",
      "memory usage: 5.0+ MB\n"
     ]
    }
   ],
   "source": [
    "steam_df.info()"
   ]
  },
  {
   "cell_type": "code",
   "execution_count": 38,
   "metadata": {},
   "outputs": [],
   "source": [
    "steam_df.to_csv(\"../data/steam_munged_maydata.csv\", index=False)"
   ]
  }
 ],
 "metadata": {
  "kernelspec": {
   "display_name": "Python 3",
   "language": "python",
   "name": "python3"
  },
  "language_info": {
   "codemirror_mode": {
    "name": "ipython",
    "version": 3
   },
   "file_extension": ".py",
   "mimetype": "text/x-python",
   "name": "python",
   "nbconvert_exporter": "python",
   "pygments_lexer": "ipython3",
   "version": "3.7.3"
  }
 },
 "nbformat": 4,
 "nbformat_minor": 2
}
